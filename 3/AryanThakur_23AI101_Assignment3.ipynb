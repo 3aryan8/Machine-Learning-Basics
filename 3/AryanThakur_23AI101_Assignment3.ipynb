{
 "cells": [
  {
   "cell_type": "markdown",
   "metadata": {},
   "source": [
    "# Aryan Thakur\n",
    "## 23AI101\n",
    "### Assignment 3"
   ]
  },
  {
   "cell_type": "markdown",
   "metadata": {},
   "source": [
    "<B>Part 1- Simple Linear Regression</b>"
   ]
  },
  {
   "cell_type": "markdown",
   "metadata": {},
   "source": [
    "• Read the data from above mentioned dataset and define X and y as numpy array"
   ]
  },
  {
   "cell_type": "code",
   "execution_count": null,
   "metadata": {},
   "outputs": [],
   "source": [
    "import numpy as np\n",
    "import pandas as pd\n",
    "\n",
    "data = pd.read_csv(\"/home/escanor/Desktop/Dataset/StudentPerformance.csv\")\n",
    "x = data[['G2']].values #G2 stands for grade of students in standard 2 in maths\n",
    "y = data['G3'].values #G2 stands for grade of students in standard 3 in maths\n",
    "\n"
   ]
  },
  {
   "cell_type": "markdown",
   "metadata": {},
   "source": [
    "• Add column at position 0 with all values=1 (pandas.DataFrame.insert function)"
   ]
  },
  {
   "cell_type": "code",
   "execution_count": 28,
   "metadata": {},
   "outputs": [],
   "source": [
    "data.insert(0 , 'New Col', 1)"
   ]
  },
  {
   "cell_type": "markdown",
   "metadata": {},
   "source": [
    "• Print rows from 40 to 55."
   ]
  },
  {
   "cell_type": "code",
   "execution_count": 29,
   "metadata": {},
   "outputs": [
    {
     "name": "stdout",
     "output_type": "stream",
     "text": [
      "    New Col  G2   G3\n",
      "40        1  50   55\n",
      "41        1  60   60\n",
      "42        1  90   90\n",
      "43        1  40   55\n",
      "44        1  50   45\n",
      "45        1  40   30\n",
      "46        1  60   55\n",
      "47        1  95  100\n",
      "48        1  75   70\n",
      "49        1  35   35\n",
      "50        1  65   65\n",
      "51        1  65   65\n",
      "52        1  55   50\n",
      "53        1  50   55\n",
      "54        1  65   65\n",
      "55        1  45   50\n"
     ]
    }
   ],
   "source": [
    "print(data.iloc[40:56])"
   ]
  },
  {
   "cell_type": "markdown",
   "metadata": {},
   "source": [
    "• Print the shape and datatype of both X and y"
   ]
  },
  {
   "cell_type": "code",
   "execution_count": 30,
   "metadata": {},
   "outputs": [
    {
     "name": "stdout",
     "output_type": "stream",
     "text": [
      "Shape of x :  (395, 1)\n",
      "DataType of x : <class 'numpy.ndarray'>\n",
      "Shape of y :  (395,)\n",
      "DataType of y : <class 'numpy.ndarray'>\n"
     ]
    }
   ],
   "source": [
    "print(\"Shape of x : \", x.shape)\n",
    "print(\"DataType of x :\" , type(x))\n",
    "print(\"Shape of y : \", y.shape)\n",
    "print(\"DataType of y :\" , type(y))"
   ]
  },
  {
   "cell_type": "markdown",
   "metadata": {},
   "source": [
    "<b>Implement simple linear regression from scratch<b>"
   ]
  },
  {
   "cell_type": "markdown",
   "metadata": {},
   "source": [
    "1. Write hypothesis function to predict values"
   ]
  },
  {
   "cell_type": "code",
   "execution_count": 31,
   "metadata": {},
   "outputs": [],
   "source": [
    "def hypothesis(x, w):\n",
    "    return np.dot(x,w)\n"
   ]
  },
  {
   "cell_type": "markdown",
   "metadata": {},
   "source": [
    "o Write function for calculating mean_squared_error"
   ]
  },
  {
   "cell_type": "code",
   "execution_count": 32,
   "metadata": {},
   "outputs": [],
   "source": [
    "def mean_squared_error(actual_value, predicted_value):\n",
    "    return np.mean((actual_value-predicted_value)**2)"
   ]
  },
  {
   "cell_type": "markdown",
   "metadata": {},
   "source": [
    "o Write function to return gradients for given weights"
   ]
  },
  {
   "cell_type": "code",
   "execution_count": 33,
   "metadata": {},
   "outputs": [],
   "source": [
    "def compute_gradients(X, y , weights):\n",
    "    n = len(y)\n",
    "    y_pred = hypothesis ( X , weights)\n",
    "    errors = y_pred - y\n",
    "    gradients = (2/n ) * np.dot( X.T , errors)\n",
    "    return gradients"
   ]
  },
  {
   "cell_type": "code",
   "execution_count": 34,
   "metadata": {},
   "outputs": [],
   "source": [
    "def gradient_descent(x, y, w, learning_rate, iterations):\n",
    "    m = len(y) \n",
    "    for _ in range(iterations):\n",
    "        gradients = compute_gradients(x, y, w)  # ✅ Use 'x' instead of 'X'\n",
    "        w -= learning_rate * gradients  # ✅ Update 'w' instead of an unused variable\n",
    "    return w\n"
   ]
  },
  {
   "cell_type": "code",
   "execution_count": 35,
   "metadata": {},
   "outputs": [
    {
     "name": "stdout",
     "output_type": "stream",
     "text": [
      "0      30\n",
      "1      25\n",
      "2      40\n",
      "3      70\n",
      "4      50\n",
      "       ..\n",
      "390    45\n",
      "391    80\n",
      "392    40\n",
      "393    60\n",
      "394    45\n",
      "Name: G2, Length: 395, dtype: int64\n"
     ]
    }
   ],
   "source": [
    "X = data['G2']\n",
    "Y = data['G3']\n",
    "print(X)\n",
    "X = X.values.reshape(395,1)\n",
    "X = np.c_[np.ones(X.shape[0]), X] #intercept term\n",
    "Y = Y.values\n",
    "\n",
    "w = np.zeros(X.shape[1])  # Initial weight values\n",
    "learning_rate = 0.001\n",
    "iterations = 1000"
   ]
  },
  {
   "cell_type": "markdown",
   "metadata": {},
   "source": [
    "Perform gradient descent taking help of above functions"
   ]
  },
  {
   "cell_type": "code",
   "execution_count": 41,
   "metadata": {},
   "outputs": [],
   "source": [
    "w = gradient_descent(X, y, w, learning_rate = 0.0001, iterations = 1000)\n"
   ]
  },
  {
   "cell_type": "code",
   "execution_count": 37,
   "metadata": {},
   "outputs": [],
   "source": [
    "predictions = hypothesis(X, w)\n"
   ]
  },
  {
   "cell_type": "code",
   "execution_count": 38,
   "metadata": {},
   "outputs": [
    {
     "name": "stdout",
     "output_type": "stream",
     "text": [
      "\n",
      "Trained parameters (weight): [-0.05959497  0.98733684]\n",
      "Mean Squared Error: 100.06858202385571\n"
     ]
    }
   ],
   "source": [
    "print(\"\\nTrained parameters (weight):\", w)\n",
    "print(\"Mean Squared Error:\", mean_squared_error(y, predictions))"
   ]
  },
  {
   "cell_type": "markdown",
   "metadata": {},
   "source": [
    "• Remove outliers, train again and see the difference in error."
   ]
  },
  {
   "cell_type": "code",
   "execution_count": 40,
   "metadata": {},
   "outputs": [
    {
     "name": "stdout",
     "output_type": "stream",
     "text": [
      "Trained parameters (theta): [-0.13475524  0.98858631]\n",
      "Mean Squared Error after outlier removal: 99.95556958823806\n"
     ]
    }
   ],
   "source": [
    "\n",
    "# Outlier Removal Using IQR\n",
    "Q1 = np.percentile(y, 25)\n",
    "Q3 = np.percentile(y, 75)\n",
    "IQR = Q3 - Q1\n",
    "\n",
    "lower_bound = Q1 - 1.5 * IQR\n",
    "upper_bound = Q3 + 1.5 * IQR\n",
    "\n",
    "# Filter out outliers\n",
    "filtered_data = data[(y >= lower_bound) & (y <= upper_bound)]\n",
    "\n",
    "# Define new X and y\n",
    "X = filtered_data[\"G2\"].values.reshape(-1, 1)  # Convert to NumPy array and reshape\n",
    "y = filtered_data[\"G3\"].values\n",
    "\n",
    "# Add intercept term\n",
    "X = np.c_[np.ones(X.shape[0]), X]\n",
    "\n",
    "# Initialize parameters\n",
    "w = np.zeros(X.shape[1])  # Initial theta\n",
    "learning_rate = 0.0001\n",
    "iterations = 1000\n",
    "\n",
    "# Train the model\n",
    "w = gradient_descent(X, y, w, learning_rate, iterations)\n",
    "\n",
    "# Make predictions\n",
    "predictions = hypothesis(X, w)\n",
    "\n",
    "# Calculate and display error\n",
    "mse = mean_squared_error(y, predictions)\n",
    "print(\"Trained parameters (theta):\", w)\n",
    "print(\"Mean Squared Error after outlier removal:\", mse)"
   ]
  },
  {
   "cell_type": "code",
   "execution_count": null,
   "metadata": {},
   "outputs": [],
   "source": []
  }
 ],
 "metadata": {
  "kernelspec": {
   "display_name": "Python 3",
   "language": "python",
   "name": "python3"
  },
  "language_info": {
   "codemirror_mode": {
    "name": "ipython",
    "version": 3
   },
   "file_extension": ".py",
   "mimetype": "text/x-python",
   "name": "python",
   "nbconvert_exporter": "python",
   "pygments_lexer": "ipython3",
   "version": "3.12.3"
  }
 },
 "nbformat": 4,
 "nbformat_minor": 2
}
