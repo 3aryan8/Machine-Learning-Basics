{
 "cells": [
  {
   "cell_type": "markdown",
   "metadata": {},
   "source": [
    "Logistic regression\n",
    "Logistic regression uses an equation as the representation, very much like linear\n",
    "regression.\n",
    "Input values (x) are combined linearly using weights or coefficient values (referred to as\n",
    "W) to predict an output value (y). A key difference from linear regression is that the\n",
    "output value being modeled is a binary values (0 or 1) rather than a continuous value.\n",
    "y^(w,x)=11+exp−(w0+w1∗x1+...+wp∗xp)\n",
    "Multiclass Logistic regression using Softmax\n",
    "The softmax function, also known as softargmax or normalized exponential function, is\n",
    "a generalization of the logistic function to multiple dimensions. It is used in multinomial\n",
    "logistic regression and is often used as the last activation function of a neural network.\n",
    "σ(z)i=ezi∑Kj=1ezj for i=1,…,K and z=(z1,…,zK)∈RK\n",
    "Here K is the number of class and each zi is calculated using\n",
    "zi=w0+w1∗x1+...+wp∗xp"
   ]
  },
  {
   "cell_type": "code",
   "execution_count": 32,
   "metadata": {},
   "outputs": [],
   "source": [
    "import pandas as pd\n",
    "import numpy as np"
   ]
  },
  {
   "cell_type": "code",
   "execution_count": 33,
   "metadata": {},
   "outputs": [
    {
     "name": "stdout",
     "output_type": "stream",
     "text": [
      "   Gender   Age  Height  Weight family_history_with_overweight FAVC  FCVC  \\\n",
      "0  Female  21.0    1.62    64.0                            yes   no   2.0   \n",
      "1  Female  21.0    1.52    56.0                            yes   no   3.0   \n",
      "2    Male  23.0    1.80    77.0                            yes   no   2.0   \n",
      "3    Male  27.0    1.80    87.0                             no   no   3.0   \n",
      "4    Male  22.0    1.78    89.8                             no   no   2.0   \n",
      "\n",
      "   NCP       CAEC SMOKE  CH2O  SCC  FAF  TUE        CALC  \\\n",
      "0  3.0  Sometimes    no   2.0   no  0.0  1.0          no   \n",
      "1  3.0  Sometimes   yes   3.0  yes  3.0  0.0   Sometimes   \n",
      "2  3.0  Sometimes    no   2.0   no  2.0  1.0  Frequently   \n",
      "3  3.0  Sometimes    no   2.0   no  2.0  0.0  Frequently   \n",
      "4  1.0  Sometimes    no   2.0   no  0.0  0.0   Sometimes   \n",
      "\n",
      "                  MTRANS           NObeyesdad  \n",
      "0  Public_Transportation        Normal_Weight  \n",
      "1  Public_Transportation        Normal_Weight  \n",
      "2  Public_Transportation        Normal_Weight  \n",
      "3                Walking   Overweight_Level_I  \n",
      "4  Public_Transportation  Overweight_Level_II  \n"
     ]
    }
   ],
   "source": [
    "\n",
    "df = pd.read_csv('/home/escanor/Desktop/Dataset/Obesity.csv')\n",
    "print(df.head())\n"
   ]
  },
  {
   "cell_type": "code",
   "execution_count": 34,
   "metadata": {},
   "outputs": [
    {
     "name": "stdout",
     "output_type": "stream",
     "text": [
      "   Gender   Age  Height  Weight family_history_with_overweight FAVC  FCVC  \\\n",
      "0  Female  21.0    1.62    64.0                            yes   no   2.0   \n",
      "1  Female  21.0    1.52    56.0                            yes   no   3.0   \n",
      "2    Male  23.0    1.80    77.0                            yes   no   2.0   \n",
      "3    Male  27.0    1.80    87.0                             no   no   3.0   \n",
      "4    Male  22.0    1.78    89.8                             no   no   2.0   \n",
      "\n",
      "   NCP       CAEC SMOKE  CH2O  SCC  FAF  TUE        CALC  \\\n",
      "0  3.0  Sometimes    no   2.0   no  0.0  1.0          no   \n",
      "1  3.0  Sometimes   yes   3.0  yes  3.0  0.0   Sometimes   \n",
      "2  3.0  Sometimes    no   2.0   no  2.0  1.0  Frequently   \n",
      "3  3.0  Sometimes    no   2.0   no  2.0  0.0  Frequently   \n",
      "4  1.0  Sometimes    no   2.0   no  0.0  0.0   Sometimes   \n",
      "\n",
      "                  MTRANS           NObeyesdad  intercept  \n",
      "0  Public_Transportation        Normal_Weight          1  \n",
      "1  Public_Transportation        Normal_Weight          1  \n",
      "2  Public_Transportation        Normal_Weight          1  \n",
      "3                Walking   Overweight_Level_I          1  \n",
      "4  Public_Transportation  Overweight_Level_II          1  \n"
     ]
    }
   ],
   "source": [
    "df['intercept'] = 1\n",
    "\n",
    "# Print the first few rows to confirm\n",
    "print(df.head())"
   ]
  },
  {
   "cell_type": "markdown",
   "metadata": {},
   "source": [
    "Convert 'Gender' column to numbers where 'Female' is 1 and 'Male' is 0"
   ]
  },
  {
   "cell_type": "code",
   "execution_count": 35,
   "metadata": {},
   "outputs": [
    {
     "name": "stdout",
     "output_type": "stream",
     "text": [
      "   Gender   Age  Height  Weight family_history_with_overweight FAVC  FCVC  \\\n",
      "0       1  21.0    1.62    64.0                            yes   no   2.0   \n",
      "1       1  21.0    1.52    56.0                            yes   no   3.0   \n",
      "2       0  23.0    1.80    77.0                            yes   no   2.0   \n",
      "3       0  27.0    1.80    87.0                             no   no   3.0   \n",
      "4       0  22.0    1.78    89.8                             no   no   2.0   \n",
      "\n",
      "   NCP       CAEC SMOKE  CH2O  SCC  FAF  TUE        CALC  \\\n",
      "0  3.0  Sometimes    no   2.0   no  0.0  1.0          no   \n",
      "1  3.0  Sometimes   yes   3.0  yes  3.0  0.0   Sometimes   \n",
      "2  3.0  Sometimes    no   2.0   no  2.0  1.0  Frequently   \n",
      "3  3.0  Sometimes    no   2.0   no  2.0  0.0  Frequently   \n",
      "4  1.0  Sometimes    no   2.0   no  0.0  0.0   Sometimes   \n",
      "\n",
      "                  MTRANS           NObeyesdad  intercept  \n",
      "0  Public_Transportation        Normal_Weight          1  \n",
      "1  Public_Transportation        Normal_Weight          1  \n",
      "2  Public_Transportation        Normal_Weight          1  \n",
      "3                Walking   Overweight_Level_I          1  \n",
      "4  Public_Transportation  Overweight_Level_II          1  \n"
     ]
    }
   ],
   "source": [
    "df['Gender'] = df['Gender'].map({'Female': 1, 'Male': 0})\n",
    "\n",
    "# Print the first few rows to confirm\n",
    "print(df.head())"
   ]
  },
  {
   "cell_type": "markdown",
   "metadata": {},
   "source": [
    "Convert yes/no columns  \n",
    "['family_history_with_overweight','FAVC','SMOKE','SCC'] to 1/0 \n"
   ]
  },
  {
   "cell_type": "code",
   "execution_count": 36,
   "metadata": {},
   "outputs": [
    {
     "name": "stdout",
     "output_type": "stream",
     "text": [
      "   Gender   Age  Height  Weight  family_history_with_overweight  FAVC  FCVC  \\\n",
      "0       1  21.0    1.62    64.0                               1     0   2.0   \n",
      "1       1  21.0    1.52    56.0                               1     0   3.0   \n",
      "2       0  23.0    1.80    77.0                               1     0   2.0   \n",
      "3       0  27.0    1.80    87.0                               0     0   3.0   \n",
      "4       0  22.0    1.78    89.8                               0     0   2.0   \n",
      "\n",
      "   NCP       CAEC  SMOKE  CH2O  SCC  FAF  TUE        CALC  \\\n",
      "0  3.0  Sometimes      0   2.0    0  0.0  1.0          no   \n",
      "1  3.0  Sometimes      1   3.0    1  3.0  0.0   Sometimes   \n",
      "2  3.0  Sometimes      0   2.0    0  2.0  1.0  Frequently   \n",
      "3  3.0  Sometimes      0   2.0    0  2.0  0.0  Frequently   \n",
      "4  1.0  Sometimes      0   2.0    0  0.0  0.0   Sometimes   \n",
      "\n",
      "                  MTRANS           NObeyesdad  intercept  \n",
      "0  Public_Transportation        Normal_Weight          1  \n",
      "1  Public_Transportation        Normal_Weight          1  \n",
      "2  Public_Transportation        Normal_Weight          1  \n",
      "3                Walking   Overweight_Level_I          1  \n",
      "4  Public_Transportation  Overweight_Level_II          1  \n"
     ]
    }
   ],
   "source": [
    "yes_no_columns = ['family_history_with_overweight', 'FAVC', 'SMOKE', 'SCC']\n",
    "\n",
    "# Convert yes/no columns to 1/0\n",
    "for column in yes_no_columns:\n",
    "    df[column] = df[column].map({'yes': 1, 'no': 0})\n",
    "\n",
    "# Print the first few rows to confirm\n",
    "print(df.head())"
   ]
  },
  {
   "cell_type": "markdown",
   "metadata": {},
   "source": [
    "One-Hot encode 'MTRANS', and 'NObeyesdad' columns. Note: One-hot  encoding class/target variable is required for comparing binary  \n",
    "predictions during training. \n"
   ]
  },
  {
   "cell_type": "code",
   "execution_count": 37,
   "metadata": {},
   "outputs": [
    {
     "name": "stdout",
     "output_type": "stream",
     "text": [
      "   Gender   Age  Height  Weight  family_history_with_overweight  FAVC  FCVC  \\\n",
      "0       1  21.0    1.62    64.0                               1     0   2.0   \n",
      "1       1  21.0    1.52    56.0                               1     0   3.0   \n",
      "2       0  23.0    1.80    77.0                               1     0   2.0   \n",
      "3       0  27.0    1.80    87.0                               0     0   3.0   \n",
      "4       0  22.0    1.78    89.8                               0     0   2.0   \n",
      "\n",
      "   NCP       CAEC  SMOKE  ...  MTRANS_Motorbike  MTRANS_Public_Transportation  \\\n",
      "0  3.0  Sometimes      0  ...             False                          True   \n",
      "1  3.0  Sometimes      1  ...             False                          True   \n",
      "2  3.0  Sometimes      0  ...             False                          True   \n",
      "3  3.0  Sometimes      0  ...             False                         False   \n",
      "4  1.0  Sometimes      0  ...             False                          True   \n",
      "\n",
      "   MTRANS_Walking  NObeyesdad_Insufficient_Weight NObeyesdad_Normal_Weight  \\\n",
      "0           False                           False                     True   \n",
      "1           False                           False                     True   \n",
      "2           False                           False                     True   \n",
      "3            True                           False                    False   \n",
      "4           False                           False                    False   \n",
      "\n",
      "   NObeyesdad_Obesity_Type_I  NObeyesdad_Obesity_Type_II  \\\n",
      "0                      False                       False   \n",
      "1                      False                       False   \n",
      "2                      False                       False   \n",
      "3                      False                       False   \n",
      "4                      False                       False   \n",
      "\n",
      "   NObeyesdad_Obesity_Type_III  NObeyesdad_Overweight_Level_I  \\\n",
      "0                        False                          False   \n",
      "1                        False                          False   \n",
      "2                        False                          False   \n",
      "3                        False                           True   \n",
      "4                        False                          False   \n",
      "\n",
      "   NObeyesdad_Overweight_Level_II  \n",
      "0                           False  \n",
      "1                           False  \n",
      "2                           False  \n",
      "3                           False  \n",
      "4                            True  \n",
      "\n",
      "[5 rows x 28 columns]\n"
     ]
    }
   ],
   "source": [
    "df = pd.get_dummies(df, columns=['MTRANS', 'NObeyesdad'], drop_first=False)\n",
    "\n",
    "# Print the first few rows to confirm\n",
    "print(df.head())"
   ]
  },
  {
   "cell_type": "markdown",
   "metadata": {},
   "source": [
    "Label encode 'CAEC', and 'CALC' columns \n"
   ]
  },
  {
   "cell_type": "code",
   "execution_count": 38,
   "metadata": {},
   "outputs": [],
   "source": [
    "from sklearn.preprocessing import LabelEncoder,StandardScaler"
   ]
  },
  {
   "cell_type": "code",
   "execution_count": 39,
   "metadata": {},
   "outputs": [
    {
     "name": "stdout",
     "output_type": "stream",
     "text": [
      "   Gender   Age  Height  Weight  family_history_with_overweight  FAVC  FCVC  \\\n",
      "0       1  21.0    1.62    64.0                               1     0   2.0   \n",
      "1       1  21.0    1.52    56.0                               1     0   3.0   \n",
      "2       0  23.0    1.80    77.0                               1     0   2.0   \n",
      "3       0  27.0    1.80    87.0                               0     0   3.0   \n",
      "4       0  22.0    1.78    89.8                               0     0   2.0   \n",
      "\n",
      "   NCP  CAEC  SMOKE  ...  MTRANS_Motorbike  MTRANS_Public_Transportation  \\\n",
      "0  3.0     2      0  ...             False                          True   \n",
      "1  3.0     2      1  ...             False                          True   \n",
      "2  3.0     2      0  ...             False                          True   \n",
      "3  3.0     2      0  ...             False                         False   \n",
      "4  1.0     2      0  ...             False                          True   \n",
      "\n",
      "   MTRANS_Walking  NObeyesdad_Insufficient_Weight  NObeyesdad_Normal_Weight  \\\n",
      "0           False                           False                      True   \n",
      "1           False                           False                      True   \n",
      "2           False                           False                      True   \n",
      "3            True                           False                     False   \n",
      "4           False                           False                     False   \n",
      "\n",
      "   NObeyesdad_Obesity_Type_I  NObeyesdad_Obesity_Type_II  \\\n",
      "0                      False                       False   \n",
      "1                      False                       False   \n",
      "2                      False                       False   \n",
      "3                      False                       False   \n",
      "4                      False                       False   \n",
      "\n",
      "   NObeyesdad_Obesity_Type_III  NObeyesdad_Overweight_Level_I  \\\n",
      "0                        False                          False   \n",
      "1                        False                          False   \n",
      "2                        False                          False   \n",
      "3                        False                           True   \n",
      "4                        False                          False   \n",
      "\n",
      "   NObeyesdad_Overweight_Level_II  \n",
      "0                           False  \n",
      "1                           False  \n",
      "2                           False  \n",
      "3                           False  \n",
      "4                            True  \n",
      "\n",
      "[5 rows x 28 columns]\n"
     ]
    }
   ],
   "source": [
    "# Initialize LabelEncoder\n",
    "le = LabelEncoder()\n",
    "\n",
    "# Columns to label encode\n",
    "label_encode_columns = ['CAEC', 'CALC']\n",
    "\n",
    "# Apply label encoding\n",
    "for column in label_encode_columns:\n",
    "    df[column] = le.fit_transform(df[column])\n",
    "\n",
    "# Print the first few rows to confirm\n",
    "print(df.head())"
   ]
  },
  {
   "cell_type": "markdown",
   "metadata": {},
   "source": [
    "Since the features have relatively different ranges, normalize the dataset "
   ]
  },
  {
   "cell_type": "code",
   "execution_count": 40,
   "metadata": {},
   "outputs": [
    {
     "name": "stdout",
     "output_type": "stream",
     "text": [
      "     Gender       Age    Height    Weight  family_history_with_overweight  \\\n",
      "0  1.011914 -0.522124 -0.875589 -0.862558                        0.472291   \n",
      "1  1.011914 -0.522124 -1.947599 -1.168077                        0.472291   \n",
      "2 -0.988227 -0.206889  1.054029 -0.366090                        0.472291   \n",
      "3 -0.988227  0.423582  1.054029  0.015808                       -2.117337   \n",
      "4 -0.988227 -0.364507  0.839627  0.122740                       -2.117337   \n",
      "\n",
      "       FAVC      FCVC       NCP      CAEC     SMOKE  ...  MTRANS_Motorbike  \\\n",
      "0 -2.759769 -0.785019  0.404153  0.300346 -0.145900  ...         -0.072375   \n",
      "1 -2.759769  1.088342  0.404153  0.300346  6.853997  ...         -0.072375   \n",
      "2 -2.759769 -0.785019  0.404153  0.300346 -0.145900  ...         -0.072375   \n",
      "3 -2.759769  1.088342  0.404153  0.300346 -0.145900  ...         -0.072375   \n",
      "4 -2.759769 -0.785019 -2.167023  0.300346 -0.145900  ...         -0.072375   \n",
      "\n",
      "   MTRANS_Public_Transportation  MTRANS_Walking  \\\n",
      "0                      0.579721       -0.165078   \n",
      "1                      0.579721       -0.165078   \n",
      "2                      0.579721       -0.165078   \n",
      "3                     -1.724969        6.057758   \n",
      "4                      0.579721       -0.165078   \n",
      "\n",
      "   NObeyesdad_Insufficient_Weight  NObeyesdad_Normal_Weight  \\\n",
      "0                       -0.384586                  2.520992   \n",
      "1                       -0.384586                  2.520992   \n",
      "2                       -0.384586                  2.520992   \n",
      "3                       -0.384586                 -0.396669   \n",
      "4                       -0.384586                 -0.396669   \n",
      "\n",
      "   NObeyesdad_Obesity_Type_I  NObeyesdad_Obesity_Type_II  \\\n",
      "0                  -0.446578                   -0.404631   \n",
      "1                  -0.446578                   -0.404631   \n",
      "2                  -0.446578                   -0.404631   \n",
      "3                  -0.446578                   -0.404631   \n",
      "4                  -0.446578                   -0.404631   \n",
      "\n",
      "   NObeyesdad_Obesity_Type_III  NObeyesdad_Overweight_Level_I  \\\n",
      "0                    -0.425804                      -0.399065   \n",
      "1                    -0.425804                      -0.399065   \n",
      "2                    -0.425804                      -0.399065   \n",
      "3                    -0.425804                       2.505855   \n",
      "4                    -0.425804                      -0.399065   \n",
      "\n",
      "   NObeyesdad_Overweight_Level_II  \n",
      "0                       -0.399065  \n",
      "1                       -0.399065  \n",
      "2                       -0.399065  \n",
      "3                       -0.399065  \n",
      "4                        2.505855  \n",
      "\n",
      "[5 rows x 28 columns]\n"
     ]
    }
   ],
   "source": [
    "scaler = StandardScaler()\n",
    "df_normalized = pd.DataFrame(scaler.fit_transform(df), columns=df.columns)\n",
    "\n",
    "# Print the first few rows to confirm\n",
    "print(df_normalized.head())"
   ]
  },
  {
   "cell_type": "markdown",
   "metadata": {},
   "source": [
    "Define X matrix (independent features) and y matrix (target features) as numpy  arrays "
   ]
  },
  {
   "cell_type": "code",
   "execution_count": 41,
   "metadata": {},
   "outputs": [
    {
     "name": "stdout",
     "output_type": "stream",
     "text": [
      "Shape of X: (2111, 21)\n",
      "Data type of X: object\n",
      "Shape of y: (2111, 7)\n",
      "Data type of y: bool\n"
     ]
    }
   ],
   "source": [
    "# Check for correct column names after one-hot encoding\n",
    "# Here we assume 'NObeyesdad' has been one-hot encoded to several columns prefixed with 'NObeyesdad_'\n",
    "# Adjust accordingly if the prefix is different\n",
    "target_columns = [col for col in df.columns if col.startswith('NObeyesdad')]\n",
    "\n",
    "# Define independent features (X) and target features (y)\n",
    "X = df.drop(columns=target_columns).values  # Drop the one-hot encoded target columns from the features\n",
    "y = df[target_columns].values  # Target columns\n",
    "\n",
    "# Print shapes to confirm\n",
    "print(\"Shape of X:\", X.shape)\n",
    "print(\"Data type of X:\", X.dtype)\n",
    "print(\"Shape of y:\", y.shape)\n",
    "print(\"Data type of y:\", y.dtype)"
   ]
  },
  {
   "cell_type": "markdown",
   "metadata": {},
   "source": []
  },
  {
   "cell_type": "code",
   "execution_count": 42,
   "metadata": {},
   "outputs": [],
   "source": [
    "from sklearn.model_selection import train_test_split"
   ]
  },
  {
   "cell_type": "code",
   "execution_count": 43,
   "metadata": {},
   "outputs": [],
   "source": [
    "X_train, X_test, y_train, y_test = train_test_split(X, y, test_size=0.2, random_state=42)"
   ]
  },
  {
   "cell_type": "code",
   "execution_count": 44,
   "metadata": {},
   "outputs": [
    {
     "name": "stdout",
     "output_type": "stream",
     "text": [
      "Shape of X_train: (1688, 21)\n",
      "Shape of X_test: (423, 21)\n",
      "Shape of y_train: (1688, 7)\n",
      "Shape of y_test: (423, 7)\n"
     ]
    }
   ],
   "source": [
    "print(\"Shape of X_train:\", X_train.shape)\n",
    "print(\"Shape of X_test:\", X_test.shape)\n",
    "print(\"Shape of y_train:\", y_train.shape)\n",
    "print(\"Shape of y_test:\", y_test.shape)"
   ]
  },
  {
   "cell_type": "markdown",
   "metadata": {},
   "source": [
    "1. Write softmax function to predict probabilities for all classes \n",
    "2. Write cross entropy loss function \n",
    "3. Write fit function where gradient descent is implemented \n",
    "4. Write predict_proba function where we predict probabilities for input data \n",
    "5. Write predict function to select single class for given input from  probabilities \n"
   ]
  },
  {
   "cell_type": "code",
   "execution_count": 45,
   "metadata": {},
   "outputs": [],
   "source": [
    "def softmax(x):\n",
    "    x = np.array(x)  # Convert input to NumPy array\n",
    "    if len(x.shape) == 1:\n",
    "        exp_x = np.exp(x - np.max(x))  # Handling 1D array case\n",
    "        return exp_x / np.sum(exp_x)\n",
    "    else:\n",
    "        exp_x = np.exp(x - np.max(x, axis=1, keepdims=True))  # Stability improvement by subtracting max\n",
    "        return exp_x / np.sum(exp_x, axis=1, keepdims=True)\n",
    "   \n"
   ]
  },
  {
   "cell_type": "markdown",
   "metadata": {},
   "source": [
    "Cross Entropy Loss Function:"
   ]
  },
  {
   "cell_type": "code",
   "execution_count": 46,
   "metadata": {},
   "outputs": [],
   "source": [
    "def cross_entropy_loss(y_true, y_pred):\n",
    "    n_samples = y_true.shape[0]\n",
    "    logp = - np.log(y_pred[range(n_samples), y_true.argmax(axis=1)])\n",
    "    loss = np.sum(logp) / n_samples\n",
    "    return loss\n"
   ]
  },
  {
   "cell_type": "markdown",
   "metadata": {},
   "source": [
    "Fit Function with Gradient Descent:"
   ]
  },
  {
   "cell_type": "code",
   "execution_count": 47,
   "metadata": {},
   "outputs": [],
   "source": [
    "class SoftmaxRegression:\n",
    "    def __init__(self, learning_rate=0.01, epochs=1000):\n",
    "        self.learning_rate = learning_rate\n",
    "        self.epochs = epochs\n",
    "\n",
    "    def fit(self, X, y):\n",
    "        n_samples, n_features = X.shape\n",
    "        n_classes = y.shape[1]\n",
    "        self.weights = np.zeros((n_features, n_classes))\n",
    "        self.bias = np.zeros((1, n_classes))\n",
    "        \n",
    "        for epoch in range(self.epochs):\n",
    "            # Compute predictions\n",
    "            scores = np.dot(X, self.weights) + self.bias\n",
    "            y_pred = softmax(scores)\n",
    "            \n",
    "            # Compute gradients\n",
    "            error = y_pred - y\n",
    "            dw = np.dot(X.T, error) / n_samples\n",
    "            db = np.sum(error, axis=0) / n_samples\n",
    "            \n",
    "            # Update weights and bias\n",
    "            self.weights -= self.learning_rate * dw\n",
    "            self.bias -= self.learning_rate * db\n",
    "            \n",
    "            # Compute loss for monitoring\n",
    "            if epoch % 100 == 0:\n",
    "                loss = cross_entropy_loss(y, y_pred)\n",
    "                print(f'Epoch {epoch}, Loss: {loss}')\n"
   ]
  },
  {
   "cell_type": "markdown",
   "metadata": {},
   "source": [
    "Predict Probabilities Function:"
   ]
  },
  {
   "cell_type": "code",
   "execution_count": 48,
   "metadata": {},
   "outputs": [],
   "source": [
    "def predict_proba(self, X):\n",
    "    scores = np.dot(X, self.weights) + self.bias\n",
    "    return softmax(scores)\n"
   ]
  },
  {
   "cell_type": "markdown",
   "metadata": {},
   "source": [
    "Predict Function to Select Single Class:"
   ]
  },
  {
   "cell_type": "code",
   "execution_count": 49,
   "metadata": {},
   "outputs": [],
   "source": [
    "def predict(self, X):\n",
    "    y_pred_proba = self.predict_proba(X)\n",
    "    return np.argmax(y_pred_proba, axis=1)\n"
   ]
  },
  {
   "cell_type": "markdown",
   "metadata": {},
   "source": [
    "Training the Model:"
   ]
  },
  {
   "cell_type": "code",
   "execution_count": 51,
   "metadata": {},
   "outputs": [
    {
     "ename": "TypeError",
     "evalue": "loop of ufunc does not support argument 0 of type float which has no callable exp method",
     "output_type": "error",
     "traceback": [
      "\u001b[0;31m---------------------------------------------------------------------------\u001b[0m",
      "\u001b[0;31mAttributeError\u001b[0m                            Traceback (most recent call last)",
      "\u001b[0;31mAttributeError\u001b[0m: 'float' object has no attribute 'exp'",
      "\nThe above exception was the direct cause of the following exception:\n",
      "\u001b[0;31mTypeError\u001b[0m                                 Traceback (most recent call last)",
      "Cell \u001b[0;32mIn[51], line 5\u001b[0m\n\u001b[1;32m      2\u001b[0m y_train \u001b[38;5;241m=\u001b[39m np\u001b[38;5;241m.\u001b[39marray(y_train)\n\u001b[1;32m      4\u001b[0m model \u001b[38;5;241m=\u001b[39m SoftmaxRegression(learning_rate\u001b[38;5;241m=\u001b[39m\u001b[38;5;241m0.01\u001b[39m, epochs\u001b[38;5;241m=\u001b[39m\u001b[38;5;241m1000\u001b[39m)\n\u001b[0;32m----> 5\u001b[0m \u001b[43mmodel\u001b[49m\u001b[38;5;241;43m.\u001b[39;49m\u001b[43mfit\u001b[49m\u001b[43m(\u001b[49m\u001b[43mX_train\u001b[49m\u001b[43m,\u001b[49m\u001b[43m \u001b[49m\u001b[43my_train\u001b[49m\u001b[43m)\u001b[49m\n",
      "Cell \u001b[0;32mIn[47], line 15\u001b[0m, in \u001b[0;36mSoftmaxRegression.fit\u001b[0;34m(self, X, y)\u001b[0m\n\u001b[1;32m     12\u001b[0m \u001b[38;5;28;01mfor\u001b[39;00m epoch \u001b[38;5;129;01min\u001b[39;00m \u001b[38;5;28mrange\u001b[39m(\u001b[38;5;28mself\u001b[39m\u001b[38;5;241m.\u001b[39mepochs):\n\u001b[1;32m     13\u001b[0m     \u001b[38;5;66;03m# Compute predictions\u001b[39;00m\n\u001b[1;32m     14\u001b[0m     scores \u001b[38;5;241m=\u001b[39m np\u001b[38;5;241m.\u001b[39mdot(X, \u001b[38;5;28mself\u001b[39m\u001b[38;5;241m.\u001b[39mweights) \u001b[38;5;241m+\u001b[39m \u001b[38;5;28mself\u001b[39m\u001b[38;5;241m.\u001b[39mbias\n\u001b[0;32m---> 15\u001b[0m     y_pred \u001b[38;5;241m=\u001b[39m \u001b[43msoftmax\u001b[49m\u001b[43m(\u001b[49m\u001b[43mscores\u001b[49m\u001b[43m)\u001b[49m\n\u001b[1;32m     17\u001b[0m     \u001b[38;5;66;03m# Compute gradients\u001b[39;00m\n\u001b[1;32m     18\u001b[0m     error \u001b[38;5;241m=\u001b[39m y_pred \u001b[38;5;241m-\u001b[39m y\n",
      "Cell \u001b[0;32mIn[45], line 7\u001b[0m, in \u001b[0;36msoftmax\u001b[0;34m(x)\u001b[0m\n\u001b[1;32m      5\u001b[0m     \u001b[38;5;28;01mreturn\u001b[39;00m exp_x \u001b[38;5;241m/\u001b[39m np\u001b[38;5;241m.\u001b[39msum(exp_x)\n\u001b[1;32m      6\u001b[0m \u001b[38;5;28;01melse\u001b[39;00m:\n\u001b[0;32m----> 7\u001b[0m     exp_x \u001b[38;5;241m=\u001b[39m \u001b[43mnp\u001b[49m\u001b[38;5;241;43m.\u001b[39;49m\u001b[43mexp\u001b[49m\u001b[43m(\u001b[49m\u001b[43mx\u001b[49m\u001b[43m \u001b[49m\u001b[38;5;241;43m-\u001b[39;49m\u001b[43m \u001b[49m\u001b[43mnp\u001b[49m\u001b[38;5;241;43m.\u001b[39;49m\u001b[43mmax\u001b[49m\u001b[43m(\u001b[49m\u001b[43mx\u001b[49m\u001b[43m,\u001b[49m\u001b[43m \u001b[49m\u001b[43maxis\u001b[49m\u001b[38;5;241;43m=\u001b[39;49m\u001b[38;5;241;43m1\u001b[39;49m\u001b[43m,\u001b[49m\u001b[43m \u001b[49m\u001b[43mkeepdims\u001b[49m\u001b[38;5;241;43m=\u001b[39;49m\u001b[38;5;28;43;01mTrue\u001b[39;49;00m\u001b[43m)\u001b[49m\u001b[43m)\u001b[49m  \u001b[38;5;66;03m# Stability improvement by subtracting max\u001b[39;00m\n\u001b[1;32m      8\u001b[0m     \u001b[38;5;28;01mreturn\u001b[39;00m exp_x \u001b[38;5;241m/\u001b[39m np\u001b[38;5;241m.\u001b[39msum(exp_x, axis\u001b[38;5;241m=\u001b[39m\u001b[38;5;241m1\u001b[39m, keepdims\u001b[38;5;241m=\u001b[39m\u001b[38;5;28;01mTrue\u001b[39;00m)\n",
      "\u001b[0;31mTypeError\u001b[0m: loop of ufunc does not support argument 0 of type float which has no callable exp method"
     ]
    }
   ],
   "source": [
    "X_train = np.array(X_train)\n",
    "y_train = np.array(y_train)\n",
    "\n",
    "model = SoftmaxRegression(learning_rate=0.01, epochs=1000)\n",
    "model.fit(X_train, y_train)"
   ]
  },
  {
   "cell_type": "markdown",
   "metadata": {},
   "source": [
    "Calculate Accuracy:"
   ]
  },
  {
   "cell_type": "code",
   "execution_count": 32,
   "metadata": {},
   "outputs": [],
   "source": [
    "def accuracy(y_true, y_pred):\n",
    "    correct_predictions = np.sum(y_true == y_pred)\n",
    "    accuracy = correct_predictions / len(y_true)\n",
    "    return accuracy\n"
   ]
  },
  {
   "cell_type": "markdown",
   "metadata": {},
   "source": [
    "Compute Accuracy on Train and Test Data:"
   ]
  },
  {
   "cell_type": "code",
   "execution_count": null,
   "metadata": {},
   "outputs": [
    {
     "ename": "TypeError",
     "evalue": "predict() missing 1 required positional argument: 'X'",
     "output_type": "error",
     "traceback": [
      "\u001b[0;31m---------------------------------------------------------------------------\u001b[0m",
      "\u001b[0;31mTypeError\u001b[0m                                 Traceback (most recent call last)",
      "Cell \u001b[0;32mIn[31], line 2\u001b[0m\n\u001b[1;32m      1\u001b[0m \u001b[38;5;66;03m# Predict on train and test data\u001b[39;00m\n\u001b[0;32m----> 2\u001b[0m y_train_pred \u001b[38;5;241m=\u001b[39m \u001b[43mpredict\u001b[49m\u001b[43m(\u001b[49m\u001b[43mX_train\u001b[49m\u001b[43m)\u001b[49m\n\u001b[1;32m      3\u001b[0m y_test_pred \u001b[38;5;241m=\u001b[39m predict(X_test)\n\u001b[1;32m      5\u001b[0m \u001b[38;5;66;03m# Calculate accuracy\u001b[39;00m\n",
      "\u001b[0;31mTypeError\u001b[0m: predict() missing 1 required positional argument: 'X'"
     ]
    }
   ],
   "source": [
    "# Predict on train and test data\n",
    "y_train_pred = predict(X_train)\n",
    "y_test_pred = predict(X_test)\n",
    "\n",
    "# Calculate accuracy\n",
    "train_accuracy = accuracy(np.argmax(y_train, axis=1), y_train_pred)\n",
    "test_accuracy = accuracy(np.argmax(y_test, axis=1), y_test_pred)\n",
    "\n",
    "print(f'Training Accuracy: {train_accuracy * 100:.2f}%')\n",
    "print(f'Test Accuracy: {test_accuracy * 100:.2f}%')\n"
   ]
  },
  {
   "cell_type": "code",
   "execution_count": null,
   "metadata": {},
   "outputs": [],
   "source": []
  }
 ],
 "metadata": {
  "kernelspec": {
   "display_name": "Python 3",
   "language": "python",
   "name": "python3"
  },
  "language_info": {
   "codemirror_mode": {
    "name": "ipython",
    "version": 3
   },
   "file_extension": ".py",
   "mimetype": "text/x-python",
   "name": "python",
   "nbconvert_exporter": "python",
   "pygments_lexer": "ipython3",
   "version": "3.10.12"
  }
 },
 "nbformat": 4,
 "nbformat_minor": 2
}
