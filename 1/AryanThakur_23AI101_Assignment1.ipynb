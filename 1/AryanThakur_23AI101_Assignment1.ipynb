{
 "cells": [
  {
   "cell_type": "markdown",
   "metadata": {},
   "source": [
    "# Aryan Thakur\n",
    "## 23AI101"
   ]
  },
  {
   "cell_type": "markdown",
   "metadata": {},
   "source": [
    "### Part 1: Exploration of NumPy\n",
    "\n"
   ]
  },
  {
   "cell_type": "markdown",
   "metadata": {},
   "source": [
    "1. Array Creation:\n",
    "Create a 1D array, 2D array, and 3D array using NumPy. Print the shape, size, and\n",
    "dimensions of each array."
   ]
  },
  {
   "cell_type": "code",
   "execution_count": 17,
   "metadata": {},
   "outputs": [
    {
     "name": "stdout",
     "output_type": "stream",
     "text": [
      "1D Array:\n",
      "[1 2 3 4 5]\n",
      "Shape: (5,)\n",
      "Size: 5\n",
      "Dimensions: 1\n",
      "\n",
      "2D Array:\n",
      "[[1 2 3]\n",
      " [4 5 6]]\n",
      "Shape: (2, 3)\n",
      "Size: 6\n",
      "Dimensions: 2\n",
      "\n",
      "3D Array:\n",
      "[[[1 2]\n",
      "  [3 4]]\n",
      "\n",
      " [[5 6]\n",
      "  [7 8]]]\n",
      "Shape: (2, 2, 2)\n",
      "Size: 8\n",
      "Dimensions: 3\n"
     ]
    }
   ],
   "source": [
    "import numpy as np\n",
    "\n",
    "# Creating a 1D array\n",
    "array_1d = np.array([1, 2, 3, 4, 5])\n",
    "print(\"1D Array:\")\n",
    "print(array_1d)\n",
    "print(\"Shape:\", array_1d.shape)\n",
    "print(\"Size:\", array_1d.size)\n",
    "print(\"Dimensions:\", array_1d.ndim)\n",
    "print()\n",
    "\n",
    "# Creating a 2D array\n",
    "array_2d = np.array([[1, 2, 3], [4, 5, 6]])\n",
    "print(\"2D Array:\")\n",
    "print(array_2d)\n",
    "print(\"Shape:\", array_2d.shape)\n",
    "print(\"Size:\", array_2d.size)\n",
    "print(\"Dimensions:\", array_2d.ndim)\n",
    "print()\n",
    "\n",
    "# Creating a 3D array\n",
    "array_3d = np.array([[[1, 2], [3, 4]], [[5, 6], [7, 8]]])\n",
    "print(\"3D Array:\")\n",
    "print(array_3d)\n",
    "print(\"Shape:\", array_3d.shape)\n",
    "print(\"Size:\", array_3d.size)\n",
    "print(\"Dimensions:\", array_3d.ndim)\n",
    "\n"
   ]
  },
  {
   "cell_type": "markdown",
   "metadata": {},
   "source": [
    "2. Data Types in Arrays  \n",
    "Create a NumPy array with floating-point numbers. Convert it to an integer array\n",
    "and a boolean array."
   ]
  },
  {
   "cell_type": "code",
   "execution_count": 18,
   "metadata": {},
   "outputs": [
    {
     "name": "stdout",
     "output_type": "stream",
     "text": [
      "Original Float Array:\n",
      "[ 1.1  2.2  0.  -3.3  4.4]\n",
      "\n",
      "Converted Integer Array:\n",
      "[ 1  2  0 -3  4]\n",
      "\n",
      "Converted Boolean Array:\n",
      "[ True  True False  True  True]\n"
     ]
    }
   ],
   "source": [
    "import numpy as np\n",
    "\n",
    "# Creating a NumPy array with floating-point numbers\n",
    "float_array = np.array([1.1, 2.2, 0.0, -3.3, 4.4])\n",
    "print(\"Original Float Array:\")\n",
    "print(float_array)\n",
    "print()\n",
    "\n",
    "\n",
    "# Converting the floating-point array to an integer array\n",
    "int_array = float_array.astype(int)\n",
    "print(\"Converted Integer Array:\")\n",
    "print(int_array)\n",
    "print()\n",
    "\n",
    "# Converting the floating-point array to a boolean array\n",
    "bool_array = float_array.astype(bool)\n",
    "print(\"Converted Boolean Array:\")\n",
    "print(bool_array)\n",
    "\n"
   ]
  },
  {
   "cell_type": "markdown",
   "metadata": {},
   "source": [
    "3. Indexing and Slicing  \n",
    "Create a 1D array of integers from 10 to 50 with a step of 5. Extract:  \n",
    "o The first 3 elements  \n",
    "o Every alternate element  \n",
    "o Elements greater than 25"
   ]
  },
  {
   "cell_type": "code",
   "execution_count": 19,
   "metadata": {},
   "outputs": [
    {
     "name": "stdout",
     "output_type": "stream",
     "text": [
      "Array\n",
      " [10 15 20 25 30 35 40 45 50]\n",
      "[10 15]\n",
      "[10 20 30 40 50]\n",
      "[30 35 40 45 50]\n"
     ]
    }
   ],
   "source": [
    "import numpy as np\n",
    "\n",
    "array= np.arange(10,51,5)\n",
    "\n",
    "e1=array[:2]\n",
    "e2=array[::2]\n",
    "e3=array[array>25]\n",
    "print(\"Array\\n\",array)\n",
    "print(e1)\n",
    "print(e2)\n",
    "print(e3)"
   ]
  },
  {
   "cell_type": "markdown",
   "metadata": {},
   "source": [
    "4. Reshaping and Resizing  \n",
    "Create a 1D array of 12 elements and reshape it into:  \n",
    "o A 2x6 array  \n",
    "o A 3x4 array  \n",
    "Verify the shapes of the resulting arrays.  "
   ]
  },
  {
   "cell_type": "code",
   "execution_count": 20,
   "metadata": {},
   "outputs": [
    {
     "name": "stdout",
     "output_type": "stream",
     "text": [
      "[ 1  2  3  4  5  6  7  8  9 10 11 12]\n",
      "(12,)\n",
      "[[ 1  2  3  4  5  6]\n",
      " [ 7  8  9 10 11 12]]\n",
      "(2, 6)\n",
      "[[ 1  2  3  4]\n",
      " [ 5  6  7  8]\n",
      " [ 9 10 11 12]]\n",
      "(3, 4)\n"
     ]
    }
   ],
   "source": [
    "import numpy as np\n",
    "\n",
    "a1d =np.arange(1,13)\n",
    "a2x6 =a1d.reshape(2,6)\n",
    "a3x4 =a1d.reshape(3,4)\n",
    "\n",
    "print(a1d)\n",
    "print(a1d.shape)\n",
    "print(a2x6)\n",
    "print(a2x6.shape)\n",
    "print(a3x4)\n",
    "print(a3x4.shape)"
   ]
  },
  {
   "cell_type": "markdown",
   "metadata": {},
   "source": [
    "5. Arithmetic Operations  \n",
    "Create two arrays of size 3x3 with random integers. Perform element-wise\n",
    "addition, subtraction, multiplication, and division."
   ]
  },
  {
   "cell_type": "code",
   "execution_count": 21,
   "metadata": {},
   "outputs": [
    {
     "name": "stdout",
     "output_type": "stream",
     "text": [
      "Array 1 [[10  9  9]\n",
      " [ 8  7  7]\n",
      " [ 4  2  8]]\n",
      "Array 2 [[ 9  5  6]\n",
      " [ 8 10  9]\n",
      " [ 2  6  1]]\n",
      "Element Wise Operation on Arrays\n",
      "Addition of two array\n",
      " [[19 14 15]\n",
      " [16 17 16]\n",
      " [ 6  8  9]]\n",
      "Subtraction of two array\n",
      " [[ 1  4  3]\n",
      " [ 0 -3 -2]\n",
      " [ 2 -4  7]]\n",
      "Multiplication of two array\n",
      " [[90 45 54]\n",
      " [64 70 63]\n",
      " [ 8 12  8]]\n",
      "Division of two array [[1.11111111 1.8        1.5       ]\n",
      " [1.         0.7        0.77777778]\n",
      " [2.         0.33333333 8.        ]]\n"
     ]
    }
   ],
   "source": [
    "import numpy as np\n",
    "\n",
    "arr1 = np.random.randint(1,11, size=(3,3))\n",
    "arr2 = np.random.randint(1,11, size=(3,3))\n",
    "\n",
    "add =np.add(arr1, arr2)\n",
    "sub =np.subtract(arr1, arr2)\n",
    "mult =np.multiply(arr1,arr2)\n",
    "divide =np.divide(arr1, arr2)\n",
    "\n",
    "print(\"Array 1\", arr1)\n",
    "print(\"Array 2\", arr2)\n",
    "print(\"Element Wise Operation on Arrays\")\n",
    "print(\"Addition of two array\\n\",add )\n",
    "print(\"Subtraction of two array\\n\",sub)\n",
    "print(\"Multiplication of two array\\n\", mult)\n",
    "print(\"Division of two array\", divide)"
   ]
  },
  {
   "cell_type": "markdown",
   "metadata": {},
   "source": [
    "6. Statistical Functions  \n",
    "Generate a 1D array of 50 random numbers between 1 and 100.   Compute:  \n",
    "o Mean  \n",
    "o Median  \n",
    "o Standard deviation  "
   ]
  },
  {
   "cell_type": "code",
   "execution_count": 22,
   "metadata": {},
   "outputs": [
    {
     "name": "stdout",
     "output_type": "stream",
     "text": [
      "Array:  [89 13  9 10 37 53 39 27  4 47 79 97 96  2 52 77 89 23 85 60  9 76 37 24\n",
      " 40  4 70 77 39 82 18 83 22  1 28 20  5 29 66 25 90 99 62 87 50 62 82 39\n",
      " 14 91]\n",
      "Mean of array 48.38\n",
      "Median of array 43.5\n",
      "Standered Deviation of array 31.07145957305514\n"
     ]
    }
   ],
   "source": [
    "import numpy as np\n",
    "\n",
    "a1d = np.random.randint(1,101, size=50)\n",
    "mean= np.mean(a1d)\n",
    "median=np.median(a1d)\n",
    "std_deviation =np.std(a1d)\n",
    "\n",
    "print(\"Array: \",a1d)\n",
    "print(\"Mean of array\",mean)\n",
    "print(\"Median of array\",median)\n",
    "print(\"Standered Deviation of array\",std_deviation)"
   ]
  },
  {
   "cell_type": "markdown",
   "metadata": {},
   "source": [
    "7. Dot Product  \n",
    "Create two 2x2 matrices. Compute their dot product and verify the result."
   ]
  },
  {
   "cell_type": "code",
   "execution_count": 23,
   "metadata": {},
   "outputs": [
    {
     "name": "stdout",
     "output_type": "stream",
     "text": [
      "Matrix 1\n",
      " [[48  6]\n",
      " [10 19]]\n",
      "Matrix 2\n",
      " [[37  9]\n",
      " [47 46]]\n",
      "Dot Product\n",
      " [[2058  708]\n",
      " [1263  964]]\n"
     ]
    }
   ],
   "source": [
    "import numpy as np\n",
    "\n",
    "m1 = np.random.randint(1,50,size=(2,2))\n",
    "m2 = np.random.randint(1,50,size=(2,2))\n",
    "dot_product = np.dot(m1,m2)\n",
    "print(\"Matrix 1\\n\",m1)\n",
    "print(\"Matrix 2\\n\",m2)\n",
    "print(\"Dot Product\\n\",dot_product)"
   ]
  },
  {
   "cell_type": "markdown",
   "metadata": {},
   "source": [
    "8. Conditional Selection  \n",
    "Create an array of 20 random integers between 1 and 50. Extract all elements:  \n",
    "o Greater than 25  \n",
    "o Divisible by 5"
   ]
  },
  {
   "cell_type": "code",
   "execution_count": 24,
   "metadata": {},
   "outputs": [
    {
     "name": "stdout",
     "output_type": "stream",
     "text": [
      "Array\n",
      " [26 38 43 13 20 43 12 48  1  2  5 33  2  6  5 21 36 33 19 21]\n",
      "Element geater than 25 [26 38 43 43 48 33 36 33]\n",
      "Element divisible by 5 [20  5  5]\n"
     ]
    }
   ],
   "source": [
    "import numpy as np \n",
    "\n",
    "a1 = np.random.randint(1,51, size=20)\n",
    "greater=a1[a1>25]\n",
    "div = a1[a1%5==0]\n",
    "\n",
    "print(\"Array\\n\",a1)\n",
    "print(\"Element geater than 25\",greater)\n",
    "print(\"Element divisible by 5\",div)"
   ]
  },
  {
   "cell_type": "markdown",
   "metadata": {},
   "source": [
    "9. Masking  \n",
    "Create a 5x5 matrix of random integers between 10 and 50. Replace all values\n",
    "greater than 30 with -1."
   ]
  },
  {
   "cell_type": "code",
   "execution_count": 25,
   "metadata": {},
   "outputs": [
    {
     "name": "stdout",
     "output_type": "stream",
     "text": [
      "Modified Matrix after masking\n",
      " [[-1 -1 -1 22 -1]\n",
      " [19 -1 -1 -1 -1]\n",
      " [-1 15 13 -1 28]\n",
      " [-1 -1 21 -1 -1]\n",
      " [25 -1 26 -1 22]]\n"
     ]
    }
   ],
   "source": [
    "import numpy as np\n",
    "\n",
    "m1 = np.random.randint(10,51, size=(5,5))\n",
    "m1[m1>30]=-1\n",
    "\n",
    "print(\"Modified Matrix after masking\\n\",m1)"
   ]
  },
  {
   "cell_type": "markdown",
   "metadata": {},
   "source": [
    "10. Broadcasting  \n",
    "Create a 4x4 array and add a 1D array of size 4 to it using broadcasting."
   ]
  },
  {
   "cell_type": "code",
   "execution_count": 26,
   "metadata": {},
   "outputs": [
    {
     "name": "stdout",
     "output_type": "stream",
     "text": [
      "Matrix\n",
      " [[10 20 27 45]\n",
      " [ 2 44 27 10]\n",
      " [42 23 17 34]\n",
      " [31 23  3 27]]\n",
      "Array\n",
      " [25  5  6  3]\n",
      "New Array after Broadcasting:\n",
      " [[35 25 33 48]\n",
      " [27 49 33 13]\n",
      " [67 28 23 37]\n",
      " [56 28  9 30]]\n"
     ]
    }
   ],
   "source": [
    "import numpy as np\n",
    "\n",
    "m1=np.random.randint(1,51,size=(4,4))\n",
    "a1=np.random.randint(1,51,size=4)\n",
    "new_arr=m1+a1\n",
    "\n",
    "print(\"Matrix\\n\",m1)\n",
    "print(\"Array\\n\",a1)\n",
    "print(\"New Array after Broadcasting:\\n\",new_arr)"
   ]
  },
  {
   "cell_type": "markdown",
   "metadata": {},
   "source": [
    "11. Stacking and Splitting  \n",
    "Create two 1D arrays of size 10 each.  \n",
    "o Stack them vertically and horizontally.  \n",
    "o Split the resulting vertical stack into two equal parts."
   ]
  },
  {
   "cell_type": "code",
   "execution_count": 27,
   "metadata": {},
   "outputs": [
    {
     "name": "stdout",
     "output_type": "stream",
     "text": [
      "Array 1:\n",
      " [ 8 40 21 40 11 39 23 29 17 10]\n",
      "Array 2:\n",
      " [32 29 48 11 25  3  2 14 45 14]\n",
      "Vertical Stack:\n",
      " [[ 8 40 21 40 11 39 23 29 17 10]\n",
      " [32 29 48 11 25  3  2 14 45 14]]\n",
      "Horizontal Stack:\n",
      " [ 8 40 21 40 11 39 23 29 17 10 32 29 48 11 25  3  2 14 45 14]\n",
      "Splitted Array\n",
      " [array([[ 8, 40, 21, 40, 11, 39, 23, 29, 17, 10]]), array([[32, 29, 48, 11, 25,  3,  2, 14, 45, 14]])]\n"
     ]
    }
   ],
   "source": [
    "import numpy as np\n",
    "\n",
    "a1=np.random.randint(1,51,size=10)\n",
    "a2=np.random.randint(1,51,size=10)\n",
    "vstack = np.vstack((a1,a2))\n",
    "hstack = np.hstack((a1,a2))\n",
    "split_arr = np.split(vstack,2)\n",
    "\n",
    "print(\"Array 1:\\n\",a1)\n",
    "print(\"Array 2:\\n\",a2)\n",
    "print(\"Vertical Stack:\\n\",vstack)\n",
    "print(\"Horizontal Stack:\\n\",hstack)\n",
    "print(\"Splitted Array\\n\",split_arr)"
   ]
  },
  {
   "cell_type": "markdown",
   "metadata": {},
   "source": [
    "12. Sorting  \n",
    "Create a 1D array of 15 random integers between 1 and 100.   Sort it:  \n",
    "o In ascending order  \n",
    "o In descending order"
   ]
  },
  {
   "cell_type": "code",
   "execution_count": 28,
   "metadata": {},
   "outputs": [
    {
     "name": "stdout",
     "output_type": "stream",
     "text": [
      "Array:\n",
      " [15 49 39 17 84  1 78 31 64 55 19 46  9 15 51]\n",
      "In Ascending order\n",
      " [ 1  9 15 15 17 19 31 39 46 49 51 55 64 78 84]\n",
      "In Descending order\n",
      " [84 78 64 55 51 49 46 39 31 19 17 15 15  9  1]\n"
     ]
    }
   ],
   "source": [
    "import numpy as np\n",
    "\n",
    "a1 =np.random.randint(1,101,size=15)\n",
    "\n",
    "asc = np.sort(a1)\n",
    "desc = np.sort(a1)[::-1]\n",
    "\n",
    "print(\"Array:\\n\",a1)\n",
    "print(\"In Ascending order\\n\",asc)\n",
    "print(\"In Descending order\\n\",desc)"
   ]
  },
  {
   "cell_type": "markdown",
   "metadata": {},
   "source": [
    "13. Unique Elements  \n",
    "Create a 1D array of 20 random integers with possible duplicate values. Find all\n",
    "unique elements and their counts."
   ]
  },
  {
   "cell_type": "code",
   "execution_count": 29,
   "metadata": {},
   "outputs": [
    {
     "name": "stdout",
     "output_type": "stream",
     "text": [
      "Array:\n",
      " [42  9 14 32 57  8 16 61 54 96 37 46 92  2 97  9 99 21 97 90]\n",
      "Unique Elements:\n",
      " [ 2  8  9 14 16 21 32 37 42 46 54 57 61 90 92 96 97 99]\n",
      "Count of Unique Elements:\n",
      " [1 1 2 1 1 1 1 1 1 1 1 1 1 1 1 1 2 1]\n"
     ]
    }
   ],
   "source": [
    "import numpy as np\n",
    "\n",
    "a1= np.random.randint(1,101,size=20)\n",
    "unique, count=np.unique(a1,return_counts=True)\n",
    "\n",
    "print(\"Array:\\n\",a1)\n",
    "print(\"Unique Elements:\\n\",unique)\n",
    "print(\"Count of Unique Elements:\\n\",count)"
   ]
  },
  {
   "cell_type": "markdown",
   "metadata": {},
   "source": [
    "14. Special Arrays  \n",
    "Create the following arrays using NumPy:  \n",
    "o A 3x3 identity matrix  \n",
    "o A diagonal matrix with [5, 10, 15] on the diagonal  \n",
    "o A 4x4 matrix filled with zeros except for a border of ones  "
   ]
  },
  {
   "cell_type": "code",
   "execution_count": 30,
   "metadata": {},
   "outputs": [
    {
     "name": "stdout",
     "output_type": "stream",
     "text": [
      "Identity Matraix\n",
      " [[1. 0. 0.]\n",
      " [0. 1. 0.]\n",
      " [0. 0. 1.]]\n",
      "Diagonal Matraix\n",
      " [[ 5  0  0]\n",
      " [ 0 10  0]\n",
      " [ 0  0 15]]\n",
      "Boarder Element Matraix\n",
      " [[1. 1. 1. 1.]\n",
      " [1. 0. 0. 1.]\n",
      " [1. 0. 0. 1.]\n",
      " [1. 1. 1. 1.]]\n"
     ]
    }
   ],
   "source": [
    "import numpy as np\n",
    "\n",
    "imatrix =np.eye(3)\n",
    "dmatrix =np.diag([5,10,15])\n",
    "border_matrix =np.zeros((4,4))\n",
    "border_matrix[0,:]=1\n",
    "border_matrix[-1,:]=1\n",
    "border_matrix[:,0]=1\n",
    "border_matrix[:,-1]=1\n",
    "\n",
    "print(\"Identity Matraix\\n\",imatrix)\n",
    "print(\"Diagonal Matraix\\n\",dmatrix)\n",
    "print(\"Boarder Element Matraix\\n\",border_matrix)"
   ]
  },
  {
   "cell_type": "markdown",
   "metadata": {},
   "source": [
    "15. Use Case: Linear Algebra  \n",
    "Solve the system of linear equations:  \n",
    "3x+2y+z=10  \n",
    "2x+3y+3z=18  \n",
    "x+y+2z=8  \n",
    "Use NumPy's linalg.solve to find x,y,z."
   ]
  },
  {
   "cell_type": "code",
   "execution_count": 31,
   "metadata": {},
   "outputs": [
    {
     "name": "stdout",
     "output_type": "stream",
     "text": [
      "Solution(x,y,z)= [0. 4. 2.]\n"
     ]
    }
   ],
   "source": [
    "import numpy as np\n",
    "\n",
    "A=np.array([[3,2,1],[2,3,3],[1,1,2]])\n",
    "B=np.array([10,18,8])\n",
    "solution =np.linalg.solve(A,B)\n",
    "print(\"Solution(x,y,z)=\",solution)"
   ]
  },
  {
   "cell_type": "markdown",
   "metadata": {},
   "source": [
    "### Part 1: Exploration of Pandas"
   ]
  },
  {
   "cell_type": "markdown",
   "metadata": {},
   "source": []
  },
  {
   "cell_type": "markdown",
   "metadata": {},
   "source": [
    "1. Series Creation  \n",
    "Create a Pandas Series using a Python list, a NumPy array, and a dictionary. Print\n",
    "the index, values, and data type of each Series."
   ]
  },
  {
   "cell_type": "code",
   "execution_count": 32,
   "metadata": {},
   "outputs": [
    {
     "name": "stdout",
     "output_type": "stream",
     "text": [
      "RangeIndex(start=0, stop=5, step=1) [1 2 3 4 5] int64\n",
      "RangeIndex(start=0, stop=5, step=1) [10 20 30 40 50] int64\n",
      "Index(['a', 'b', 'c'], dtype='object') [100 200 300] int64\n"
     ]
    }
   ],
   "source": [
    "import pandas as pd\n",
    "\n",
    "list_series = pd.Series([1, 2, 3, 4, 5])\n",
    "array_series = pd.Series(np.array([10, 20, 30, 40, 50]))\n",
    "dict_series = pd.Series({'a': 100, 'b': 200, 'c': 300})\n",
    "\n",
    "print(list_series.index, list_series.values, list_series.dtype)\n",
    "print(array_series.index, array_series.values, array_series.dtype)\n",
    "print(dict_series.index, dict_series.values, dict_series.dtype)"
   ]
  },
  {
   "cell_type": "markdown",
   "metadata": {},
   "source": [
    "2. DataFrame Creation  \n",
    "Create a DataFrame from:  \n",
    "o A dictionary of lists  \n",
    "o A NumPy array  \n",
    "o A CSV file (use a sample dataset)"
   ]
  },
  {
   "cell_type": "code",
   "execution_count": 33,
   "metadata": {},
   "outputs": [
    {
     "ename": "FileNotFoundError",
     "evalue": "[Errno 2] No such file or directory: 'SmallData.csv'",
     "output_type": "error",
     "traceback": [
      "\u001b[0;31m---------------------------------------------------------------------------\u001b[0m",
      "\u001b[0;31mFileNotFoundError\u001b[0m                         Traceback (most recent call last)",
      "Cell \u001b[0;32mIn[33], line 8\u001b[0m\n\u001b[1;32m      4\u001b[0m dict_df \u001b[38;5;241m=\u001b[39m pd\u001b[38;5;241m.\u001b[39mDataFrame({\u001b[38;5;124m'\u001b[39m\u001b[38;5;124mA\u001b[39m\u001b[38;5;124m'\u001b[39m: [\u001b[38;5;241m1\u001b[39m, \u001b[38;5;241m2\u001b[39m, \u001b[38;5;241m3\u001b[39m], \u001b[38;5;124m'\u001b[39m\u001b[38;5;124mB\u001b[39m\u001b[38;5;124m'\u001b[39m: [\u001b[38;5;241m4\u001b[39m, \u001b[38;5;241m5\u001b[39m, \u001b[38;5;241m6\u001b[39m]})\n\u001b[1;32m      6\u001b[0m array_df \u001b[38;5;241m=\u001b[39m pd\u001b[38;5;241m.\u001b[39mDataFrame(np\u001b[38;5;241m.\u001b[39marray([[\u001b[38;5;241m7\u001b[39m, \u001b[38;5;241m8\u001b[39m], [\u001b[38;5;241m9\u001b[39m, \u001b[38;5;241m10\u001b[39m], [\u001b[38;5;241m11\u001b[39m, \u001b[38;5;241m12\u001b[39m]]), columns\u001b[38;5;241m=\u001b[39m[\u001b[38;5;124m'\u001b[39m\u001b[38;5;124mX\u001b[39m\u001b[38;5;124m'\u001b[39m, \u001b[38;5;124m'\u001b[39m\u001b[38;5;124mY\u001b[39m\u001b[38;5;124m'\u001b[39m])\n\u001b[0;32m----> 8\u001b[0m csv_file \u001b[38;5;241m=\u001b[39m \u001b[38;5;28;43mopen\u001b[39;49m\u001b[43m(\u001b[49m\u001b[38;5;124;43m\"\u001b[39;49m\u001b[38;5;124;43mSmallData.csv\u001b[39;49m\u001b[38;5;124;43m\"\u001b[39;49m\u001b[43m,\u001b[49m\u001b[43m \u001b[49m\u001b[38;5;124;43m\"\u001b[39;49m\u001b[38;5;124;43mr\u001b[39;49m\u001b[38;5;124;43m\"\u001b[39;49m\u001b[43m)\u001b[49m\n\u001b[1;32m     10\u001b[0m csv_df \u001b[38;5;241m=\u001b[39m pd\u001b[38;5;241m.\u001b[39mread_csv(csv_file)\n\u001b[1;32m     11\u001b[0m \u001b[38;5;28mprint\u001b[39m(\u001b[38;5;124m\"\u001b[39m\u001b[38;5;124mDictionary DataFrame:\u001b[39m\u001b[38;5;130;01m\\n\u001b[39;00m\u001b[38;5;124m\"\u001b[39m, dict_df)\n",
      "File \u001b[0;32m/usr/lib/python3/dist-packages/IPython/core/interactiveshell.py:310\u001b[0m, in \u001b[0;36m_modified_open\u001b[0;34m(file, *args, **kwargs)\u001b[0m\n\u001b[1;32m    303\u001b[0m \u001b[38;5;28;01mif\u001b[39;00m file \u001b[38;5;129;01min\u001b[39;00m {\u001b[38;5;241m0\u001b[39m, \u001b[38;5;241m1\u001b[39m, \u001b[38;5;241m2\u001b[39m}:\n\u001b[1;32m    304\u001b[0m     \u001b[38;5;28;01mraise\u001b[39;00m \u001b[38;5;167;01mValueError\u001b[39;00m(\n\u001b[1;32m    305\u001b[0m         \u001b[38;5;124mf\u001b[39m\u001b[38;5;124m\"\u001b[39m\u001b[38;5;124mIPython won\u001b[39m\u001b[38;5;124m'\u001b[39m\u001b[38;5;124mt let you open fd=\u001b[39m\u001b[38;5;132;01m{\u001b[39;00mfile\u001b[38;5;132;01m}\u001b[39;00m\u001b[38;5;124m by default \u001b[39m\u001b[38;5;124m\"\u001b[39m\n\u001b[1;32m    306\u001b[0m         \u001b[38;5;124m\"\u001b[39m\u001b[38;5;124mas it is likely to crash IPython. If you know what you are doing, \u001b[39m\u001b[38;5;124m\"\u001b[39m\n\u001b[1;32m    307\u001b[0m         \u001b[38;5;124m\"\u001b[39m\u001b[38;5;124myou can use builtins\u001b[39m\u001b[38;5;124m'\u001b[39m\u001b[38;5;124m open.\u001b[39m\u001b[38;5;124m\"\u001b[39m\n\u001b[1;32m    308\u001b[0m     )\n\u001b[0;32m--> 310\u001b[0m \u001b[38;5;28;01mreturn\u001b[39;00m \u001b[43mio_open\u001b[49m\u001b[43m(\u001b[49m\u001b[43mfile\u001b[49m\u001b[43m,\u001b[49m\u001b[43m \u001b[49m\u001b[38;5;241;43m*\u001b[39;49m\u001b[43margs\u001b[49m\u001b[43m,\u001b[49m\u001b[43m \u001b[49m\u001b[38;5;241;43m*\u001b[39;49m\u001b[38;5;241;43m*\u001b[39;49m\u001b[43mkwargs\u001b[49m\u001b[43m)\u001b[49m\n",
      "\u001b[0;31mFileNotFoundError\u001b[0m: [Errno 2] No such file or directory: 'SmallData.csv'"
     ]
    }
   ],
   "source": [
    "import pandas as pd\n",
    "import numpy as np\n",
    "\n",
    "dict_df = pd.DataFrame({'A': [1, 2, 3], 'B': [4, 5, 6]})\n",
    "\n",
    "array_df = pd.DataFrame(np.array([[7, 8], [9, 10], [11, 12]]), columns=['X', 'Y'])\n",
    "\n",
    "csv_file = open(\"SmallData.csv\", \"r\")\n",
    "\n",
    "csv_df = pd.read_csv(csv_file)\n",
    "print(\"Dictionary DataFrame:\\n\", dict_df)\n",
    "print(\"\\nArray DataFrame:\\n\", array_df)\n",
    "print(\"\\nCSV DataFrame:\\n\", csv_df)\n"
   ]
  },
  {
   "cell_type": "markdown",
   "metadata": {},
   "source": [
    "3. Data Inspection  \n",
    "Use the following methods on the DataFrame created in Task 2:  \n",
    "o .head()  \n",
    "o .tail()  \n",
    "o .info()  \n",
    "o .describe()"
   ]
  },
  {
   "cell_type": "code",
   "execution_count": null,
   "metadata": {},
   "outputs": [
    {
     "name": "stdout",
     "output_type": "stream",
     "text": [
      "      Name  Age Grade\n",
      "0    Alice   20     A\n",
      "1      Bob   21     B\n",
      "2  Charlie   22     A\n",
      ".............................................................\n",
      "      Name  Age Grade\n",
      "0    Alice   20     A\n",
      "1      Bob   21     B\n",
      "2  Charlie   22     A\n",
      ".............................................................\n",
      "<class 'pandas.core.frame.DataFrame'>\n",
      "RangeIndex: 3 entries, 0 to 2\n",
      "Data columns (total 3 columns):\n",
      " #   Column  Non-Null Count  Dtype \n",
      "---  ------  --------------  ----- \n",
      " 0   Name    3 non-null      object\n",
      " 1   Age     3 non-null      int64 \n",
      " 2   Grade   3 non-null      object\n",
      "dtypes: int64(1), object(2)\n",
      "memory usage: 204.0+ bytes\n",
      "None\n",
      ".............................................................\n",
      "        Age\n",
      "count   3.0\n",
      "mean   21.0\n",
      "std     1.0\n",
      "min    20.0\n",
      "25%    20.5\n",
      "50%    21.0\n",
      "75%    21.5\n",
      "max    22.0\n"
     ]
    }
   ],
   "source": [
    "print(csv_df.head())\n",
    "print('.............................................................')\n",
    "print(csv_df.tail())\n",
    "print('.............................................................')\n",
    "print(csv_df.info())\n",
    "print('.............................................................')\n",
    "print(csv_df.describe())"
   ]
  },
  {
   "cell_type": "markdown",
   "metadata": {},
   "source": [
    "4. Data Selection\n",
    "From the DataFrame created in Task 2, extract:  \n",
    "o A single column  \n",
    "o Multiple columns  \n",
    "o Rows using .iloc and .loc  "
   ]
  },
  {
   "cell_type": "code",
   "execution_count": null,
   "metadata": {},
   "outputs": [
    {
     "name": "stdout",
     "output_type": "stream",
     "text": [
      "0    1\n",
      "1    2\n",
      "2    3\n",
      "Name: A, dtype: int64\n",
      ".............................................................\n",
      "   A  B\n",
      "0  1  4\n",
      "1  2  5\n",
      "2  3  6\n",
      ".............................................................\n",
      "   A  B\n",
      "0  1  4\n",
      "1  2  5\n",
      ".............................................................\n",
      "   A  B\n",
      "0  1  4\n",
      "1  2  5\n"
     ]
    }
   ],
   "source": [
    "single_column = dict_df['A']\n",
    "print(single_column)\n",
    "print('.............................................................')\n",
    "multiple_columns = dict_df[['A', 'B']]\n",
    "print(multiple_columns)\n",
    "print('.............................................................')\n",
    "rows_iloc = dict_df.iloc[0:2]\n",
    "print(rows_iloc)\n",
    "print('.............................................................')\n",
    "rows_loc = dict_df.loc[0:1]\n",
    "print(rows_loc)"
   ]
  },
  {
   "cell_type": "markdown",
   "metadata": {},
   "source": [
    "5. Filtering Data  \n",
    "Create a DataFrame of student scores with columns: Name, Subject, and Score.\n",
    "Extract rows where the score is greater than 80 and subject is \"Mathematics\"."
   ]
  },
  {
   "cell_type": "code",
   "execution_count": null,
   "metadata": {},
   "outputs": [
    {
     "name": "stdout",
     "output_type": "stream",
     "text": [
      "      Name  Subject  Score\n",
      "0    Alice     Math     85\n",
      "1      Bob     Math     90\n",
      "2  Charlie  English     78\n",
      ".............................................................\n",
      "    Name Subject  Score\n",
      "0  Alice    Math     85\n",
      "1    Bob    Math     90\n"
     ]
    }
   ],
   "source": [
    "scores_df = pd.DataFrame({'Name': ['Alice', 'Bob', 'Charlie'], 'Subject': ['Math', 'Math', 'English'], 'Score': [85, 90, 78]})\n",
    "print(scores_df)\n",
    "print('.............................................................')\n",
    "filtered_df = scores_df[(scores_df['Score'] > 80) & (scores_df['Subject'] == 'Math')]\n",
    "print(filtered_df)"
   ]
  },
  {
   "cell_type": "markdown",
   "metadata": {},
   "source": [
    "6. Adding and Removing Columns  \n",
    "Create a DataFrame and add a new column based on existing columns. Remove\n",
    "a column using both del and .drop()."
   ]
  },
  {
   "cell_type": "code",
   "execution_count": null,
   "metadata": {},
   "outputs": [
    {
     "name": "stdout",
     "output_type": "stream",
     "text": [
      "   A  B\n",
      "0  1  4\n",
      "1  2  5\n",
      "2  3  6\n",
      ".............................................................\n",
      "   A  B  C\n",
      "0  1  4  5\n",
      "1  2  5  7\n",
      "2  3  6  9\n",
      ".............................................................\n",
      "   A  B\n",
      "0  1  4\n",
      "1  2  5\n",
      "2  3  6\n",
      ".............................................................\n",
      "   A\n",
      "0  1\n",
      "1  2\n",
      "2  3\n"
     ]
    }
   ],
   "source": [
    "df = pd.DataFrame({'A': [1, 2, 3], 'B': [4, 5, 6]})\n",
    "print(df)\n",
    "print('.............................................................')\n",
    "df['C'] = df['A'] + df['B']\n",
    "print(df)\n",
    "# df.insert(0, 'newCol' , df.pop('C'))\n",
    "print('.............................................................')\n",
    "del df['C']\n",
    "print(df)\n",
    "print('.............................................................')\n",
    "df = df.drop(columns=['B'])\n",
    "print(df)"
   ]
  },
  {
   "cell_type": "markdown",
   "metadata": {},
   "source": [
    "7. Sorting  \n",
    "Create a DataFrame with random data. Sort it:  \n",
    "o By a single column in ascending order  \n",
    "o By multiple columns in descending order"
   ]
  },
  {
   "cell_type": "code",
   "execution_count": null,
   "metadata": {},
   "outputs": [],
   "source": [
    "random_df = pd.DataFrame(np.random.randint(1, 100, size=(5, 3)), columns=['A', 'B', 'C'])\n",
    "sorted_df_single = random_df.sort_values(by='A')\n",
    "sorted_df_multiple = random_df.sort_values(by=['A', 'B'], ascending=[False, False])"
   ]
  },
  {
   "cell_type": "markdown",
   "metadata": {},
   "source": [
    "8. Renaming Columns and Index  \n",
    "Rename the columns and index of a DataFrame. Use both rename() and direct\n",
    "assignment."
   ]
  },
  {
   "cell_type": "code",
   "execution_count": null,
   "metadata": {},
   "outputs": [],
   "source": [
    "renamed_df = random_df.rename(columns={'A': 'Alpha', 'B': 'Beta'})\n",
    "random_df.columns = ['X', 'Y', 'Z']"
   ]
  },
  {
   "cell_type": "markdown",
   "metadata": {},
   "source": [
    "9. Detecting Missing Values  \n",
    "Create a DataFrame with some missing values. Use:  \n",
    "o .isnull() and .notnull()  \n",
    "o .sum() to count missing values per column"
   ]
  },
  {
   "cell_type": "code",
   "execution_count": null,
   "metadata": {},
   "outputs": [
    {
     "name": "stdout",
     "output_type": "stream",
     "text": [
      "       A      B\n",
      "0  False  False\n",
      "1   True  False\n",
      "2  False   True\n",
      ".............................................................\n",
      "       A      B\n",
      "0   True   True\n",
      "1  False   True\n",
      "2   True  False\n",
      ".............................................................\n",
      "A    1\n",
      "B    1\n",
      "dtype: int64\n"
     ]
    }
   ],
   "source": [
    "missing_df = pd.DataFrame({'A': [1, np.nan, 3], 'B': [4, 5, np.nan]})\n",
    "print(missing_df.isnull())\n",
    "print('.............................................................')\n",
    "print(missing_df.notnull())\n",
    "print('.............................................................')\n",
    "print(missing_df.isnull().sum())"
   ]
  },
  {
   "cell_type": "markdown",
   "metadata": {},
   "source": [
    "10. Filling Missing Values  \n",
    "Fill missing values in the DataFrame using:  \n",
    "o A constant value  \n",
    "o The mean of the column  "
   ]
  },
  {
   "cell_type": "code",
   "execution_count": null,
   "metadata": {},
   "outputs": [],
   "source": [
    "filled_df_constant = missing_df.fillna(0)\n",
    "filled_df_mean = missing_df.fillna(missing_df.mean())"
   ]
  },
  {
   "cell_type": "markdown",
   "metadata": {},
   "source": [
    "11. Dropping Missing Values\n",
    "Drop rows and columns with missing values using .dropna(). Experiment with\n",
    "different axis and how parameters."
   ]
  },
  {
   "cell_type": "code",
   "execution_count": null,
   "metadata": {},
   "outputs": [],
   "source": [
    "dropped_df_rows = missing_df.dropna()\n",
    "dropped_df_cols = missing_df.dropna(axis=1)"
   ]
  },
  {
   "cell_type": "markdown",
   "metadata": {},
   "source": [
    "12. GroupBy and Aggregation    \n",
    "Create a DataFrame of sales data with columns: Salesperson, Region, and Sales.  \n",
    "Use .groupby() to calculate:    \n",
    "o Total sales per region  \n",
    "o Average sales per salesperson"
   ]
  },
  {
   "cell_type": "code",
   "execution_count": null,
   "metadata": {},
   "outputs": [],
   "source": [
    "sales_df = pd.DataFrame({'Salesperson': ['John', 'Jane', 'John'], 'Region': ['North', 'South', 'North'], 'Sales': [100, 200, 150]})\n",
    "total_sales_per_region = sales_df.groupby('Region')['Sales'].sum()\n",
    "average_sales_per_salesperson = sales_df.groupby('Salesperson')['Sales'].mean()"
   ]
  },
  {
   "cell_type": "markdown",
   "metadata": {},
   "source": [
    "13. Merging and Joining  \n",
    "Create two DataFrames:  \n",
    "o One with employee details (EmployeeID, Name, Department)  \n",
    "o One with salary details (EmployeeID, Salary)  \n",
    "Merge them using different types of joins: inner, outer, left, and right."
   ]
  },
  {
   "cell_type": "code",
   "execution_count": null,
   "metadata": {},
   "outputs": [],
   "source": [
    "employee_df = pd.DataFrame({'EmployeeID': [1, 2], 'Name': ['John', 'Jane'], 'Department': ['HR', 'Finance']})\n",
    "salary_df = pd.DataFrame({'EmployeeID': [1, 2], 'Salary': [50000, 60000]})\n",
    "merged_inner = pd.merge(employee_df, salary_df, on='EmployeeID', how='inner')\n",
    "merged_outer = pd.merge(employee_df, salary_df, on='EmployeeID', how='outer')\n",
    "merged_left = pd.merge(employee_df, salary_df, on='EmployeeID', how='left')\n",
    "merged_right = pd.merge(employee_df, salary_df, on='EmployeeID', how='right')"
   ]
  },
  {
   "cell_type": "markdown",
   "metadata": {},
   "source": [
    "14. Pivot Tables  \n",
    "Create a DataFrame with sales data and generate a pivot table to analyze sales\n",
    "by Region and Product."
   ]
  },
  {
   "cell_type": "code",
   "execution_count": null,
   "metadata": {},
   "outputs": [
    {
     "name": "stderr",
     "output_type": "stream",
     "text": [
      "/tmp/ipykernel_10847/2155887496.py:2: FutureWarning: The provided callable <function sum at 0x74b0b0de32e0> is currently using DataFrameGroupBy.sum. In a future version of pandas, the provided callable will be used directly. To keep current behavior pass the string \"sum\" instead.\n",
      "  pivot_table = pd.pivot_table(sales_data_df, values='Sales', index='Region', columns='Product', aggfunc=np.sum)\n"
     ]
    }
   ],
   "source": [
    "sales_data_df = pd.DataFrame({'Region': ['North', 'South', 'North'], 'Product': ['A', 'B', 'A'], 'Sales': [100, 200, 150]})\n",
    "pivot_table = pd.pivot_table(sales_data_df, values='Sales', index='Region', columns='Product', aggfunc=np.sum)"
   ]
  },
  {
   "cell_type": "markdown",
   "metadata": {},
   "source": [
    "15. File Operations  \n",
    "o Read a dataset from a CSV file into a DataFrame.  \n",
    "o Write the DataFrame to an Excel file.  \n",
    "o Read a dataset from an Excel file."
   ]
  },
  {
   "cell_type": "code",
   "execution_count": null,
   "metadata": {},
   "outputs": [
    {
     "name": "stdout",
     "output_type": "stream",
     "text": [
      "      Name  Age Grade\n",
      "0    Alice   20     A\n",
      "1      Bob   21     B\n",
      "2  Charlie   22     A\n"
     ]
    }
   ],
   "source": [
    "import pandas as pd\n",
    "from io import StringIO\n",
    "\n",
    "csv_data = \"\"\"Name,Age,Grade\n",
    "Alice,20,A\n",
    "Bob,21,B\n",
    "Charlie,22,A\n",
    "\"\"\"\n",
    "csv_file = StringIO(csv_data)\n",
    "csv_df = pd.read_csv(csv_file)\n",
    "csv_df.to_excel('output.xlsx', index=False)\n",
    "excel_df = pd.read_excel('output.xlsx')\n",
    "\n",
    "print(excel_df)\n"
   ]
  },
  {
   "cell_type": "markdown",
   "metadata": {},
   "source": [
    "### Part 3: Basic Plotting"
   ]
  },
  {
   "cell_type": "markdown",
   "metadata": {},
   "source": [
    "1. Line Plot  \n",
    "Create a line plot for the following data:  \n",
    "o X-axis: Numbers from 1 to 10  \n",
    "o Y-axis: Squares of the numbers (e.g., y=x2y = x^2y=x2)\n",
    "Customize the plot by adding:  \n",
    "o A title  \n",
    "o Labels for the X and Y axes  \n",
    "o A grid  "
   ]
  },
  {
   "cell_type": "code",
   "execution_count": null,
   "metadata": {},
   "outputs": [
    {
     "data": {
      "image/png": "[encoded data removed]",
      "text/plain": [
       "<Figure size 640x480 with 1 Axes>"
      ]
     },
     "metadata": {},
     "output_type": "display_data"
    }
   ],
   "source": [
    "import matplotlib.pyplot as plt\n",
    "\n",
    "x = list(range(-11, 11))\n",
    "y = [i * i * i for i in x]\n",
    "\n",
    "# 1. Figure Background Color:\n",
    "fig, ax = plt.subplots(facecolor='lightgray') # Light gray background for the whole figure\n",
    "\n",
    "# 2. Axes Background Color:\n",
    "ax.set_facecolor('whitesmoke') # Off-white background for the plotting area itself\n",
    "\n",
    "# 3. Line Color:\n",
    "ax.plot(x, y, color='royalblue', linewidth=2, label='Cubic Function') # Blue line, thicker\n",
    "\n",
    "# 4. Axis Colors (spines):\n",
    "ax.spines['bottom'].set_color('darkgreen') # Color of the bottom spine (x-axis)\n",
    "ax.spines['top'].set_color('darkgreen')    # Color of the top spine\n",
    "ax.spines['left'].set_color('darkgreen')  # Color of the left spine (y-axis)\n",
    "ax.spines['right'].set_color('darkgreen') # Color of the right spine\n",
    "\n",
    "# 5. Axis Ticks and Labels Color:\n",
    "ax.tick_params(axis='x', colors='darkgreen')  # Color of x-axis ticks and labels\n",
    "ax.tick_params(axis='y', colors='darkgreen')  # Color of y-axis ticks and labels\n",
    "ax.set_xlabel(\"X-axis\", color='darkgreen')   # X-axis label color\n",
    "ax.set_ylabel(\"Y-axis\", color='darkgreen')   # Y-axis label color\n",
    "ax.set_title(\"Graph\", color='darkgreen')      # Title color\n",
    "\n",
    "# 6. Grid Color:\n",
    "ax.grid(True, color='gray', linestyle='--') # Gray, dashed grid\n",
    "\n",
    "# 7. Legend (if you have one):\n",
    "ax.legend(facecolor='white', edgecolor='black') # White legend background, black border\n",
    "\n",
    "plt.show()"
   ]
  },
  {
   "cell_type": "code",
   "execution_count": null,
   "metadata": {},
   "outputs": [
    {
     "data": {
      "image/png": "[encoded data removed]",
      "text/plain": [
       "<Figure size 640x480 with 1 Axes>"
      ]
     },
     "metadata": {},
     "output_type": "display_data"
    }
   ],
   "source": [
    "import matplotlib.pyplot as plt\n",
    "\n",
    "x = list(range(1, 11))\n",
    "y = [i**2 for i in x]\n",
    "\n",
    "plt.plot(x, y , color= \"green\")\n",
    "plt.title(\"Line Plot: y = x^2\")\n",
    "plt.xlabel(\"X-axis\")\n",
    "plt.ylabel(\"Y-axis (Squares)\")\n",
    "plt.grid(True)\n",
    "plt.show()\n"
   ]
  },
  {
   "cell_type": "markdown",
   "metadata": {},
   "source": [
    "2. Bar Plot  \n",
    "Create a bar plot to visualize the following data:  \n",
    "o Categories: Apples, Bananas, Cherries, Dates  \n",
    "o Values: 40, 25, 35, 20\n",
    "Add:  \n",
    "o Different colors for each bar  \n",
    "o A legend  "
   ]
  },
  {
   "cell_type": "code",
   "execution_count": null,
   "metadata": {},
   "outputs": [
    {
     "data": {
      "image/png": "[encoded data removed]",
      "text/plain": [
       "<Figure size 640x480 with 1 Axes>"
      ]
     },
     "metadata": {},
     "output_type": "display_data"
    }
   ],
   "source": [
    "import matplotlib.pyplot as plt\n",
    "\n",
    "categories = ['Apples', 'Bananas', 'Cherries', 'Dates']\n",
    "values = [40, 25, 35, 20]\n",
    "\n",
    "plt.bar(categories, values, color=['darkblue', 'blue', 'lightblue', \"slateblue\"])\n",
    "plt.title(\"Bar Plot: Fruit Categories\")\n",
    "plt.xlabel(\"Fruit\")\n",
    "plt.ylabel(\"Quantity\")\n",
    "plt.legend([\"Fruit Quantity\"])\n",
    "plt.show()\n"
   ]
  },
  {
   "cell_type": "markdown",
   "metadata": {},
   "source": [
    "3. Scatter Plot  \n",
    "Generate a scatter plot of random data:  \n",
    "o X: 50 random numbers between 1 and 100  \n",
    "o Y: 50 random numbers between 1 and 100  \n",
    "Customize the scatter plot by:  \n",
    "o Changing the marker size and color  \n",
    "o Adding a title and axis labels  "
   ]
  },
  {
   "cell_type": "code",
   "execution_count": null,
   "metadata": {},
   "outputs": [],
   "source": [
    "import matplotlib.pyplot as plt\n",
    "import numpy as np\n",
    "\n",
    "x = np.random.randint(1, 101, 50)\n",
    "y = np.random.randint(1, 101, 50)"
   ]
  },
  {
   "cell_type": "code",
   "execution_count": null,
   "metadata": {},
   "outputs": [
    {
     "data": {
      "image/png": "[encoded data removed]",
      "text/plain": [
       "<Figure size 640x480 with 1 Axes>"
      ]
     },
     "metadata": {},
     "output_type": "display_data"
    }
   ],
   "source": [
    "\n",
    "\n",
    "plt.scatter(x, y, s=100, c='purple', alpha=0.6)\n",
    "plt.title(\"Scatter Plot: Random Data\")\n",
    "plt.xlabel(\"X-axis\")\n",
    "plt.ylabel(\"Y-axis\")\n",
    "plt.show()\n"
   ]
  },
  {
   "cell_type": "markdown",
   "metadata": {},
   "source": [
    "4. Subplots   \n",
    "Create a figure with two subplots:  \n",
    "o Subplot 1: A sine wave plot for values of xxx from 000 to 2π2\\pi2π  \n",
    "o Subplot 2: A cosine wave plot for values of xxx from 000 to 2π2\\pi2π  \n",
    "Ensure both subplots have appropriate titles and axis labels."
   ]
  },
  {
   "cell_type": "code",
   "execution_count": null,
   "metadata": {},
   "outputs": [
    {
     "data": {
      "image/png": "[encoded data removed]",
      "text/plain": [
       "<Figure size 640x480 with 2 Axes>"
      ]
     },
     "metadata": {},
     "output_type": "display_data"
    }
   ],
   "source": [
    "import matplotlib.pyplot as plt\n",
    "import numpy as np\n",
    "\n",
    "x = np.linspace(0, 2*np.pi, 100)\n",
    "y_sine = np.sin(x)\n",
    "y_cosine = np.cos(x)\n",
    "\n",
    "fig, axs = plt.subplots(2, 1)\n",
    "\n",
    "axs[0].plot(x, y_sine, color='blue')\n",
    "axs[0].set_title(\"Sine Wave\")\n",
    "axs[0].set_xlabel(\"X-axis\")\n",
    "axs[0].set_ylabel(\"Y-axis\")\n",
    "\n",
    "axs[1].plot(x, y_cosine, color='green')\n",
    "axs[1].set_title(\"Cosine Wave\")\n",
    "axs[1].set_xlabel(\"X-axis\")\n",
    "axs[1].set_ylabel(\"Y-axis\")\n",
    "\n",
    "plt.tight_layout()\n",
    "plt.show()\n"
   ]
  },
  {
   "cell_type": "markdown",
   "metadata": {},
   "source": [
    "5. Histogram  \n",
    "Generate a histogram for a dataset of 1000 random numbers sampled from a\n",
    "normal distribution with mean 0 and standard deviation 1.  \n",
    "o Add bins to the histogram.  \n",
    "o Customize the color and edge color.  \n",
    "o Save the plot as an image file (histogram.png).  "
   ]
  },
  {
   "cell_type": "code",
   "execution_count": null,
   "metadata": {},
   "outputs": [
    {
     "data": {
      "image/png": "[encoded data removed]",
      "text/plain": [
       "<Figure size 640x480 with 1 Axes>"
      ]
     },
     "metadata": {},
     "output_type": "display_data"
    }
   ],
   "source": [
    "import matplotlib.pyplot as plt\n",
    "import numpy as np\n",
    "\n",
    "data = np.random.normal(0, 1, 1000)\n",
    "\n",
    "plt.hist(data, bins=30, color='skyblue', edgecolor='black')\n",
    "plt.title(\"Histogram: Normal Distribution\")\n",
    "plt.xlabel(\"Value\")\n",
    "plt.ylabel(\"Frequency\")\n",
    "plt.savefig(\"histogram.png\")\n",
    "plt.show()\n"
   ]
  }
 ],
 "metadata": {
  "kernelspec": {
   "display_name": "Python 3",
   "language": "python",
   "name": "python3"
  },
  "language_info": {
   "codemirror_mode": {
    "name": "ipython",
    "version": 3
   },
   "file_extension": ".py",
   "mimetype": "text/x-python",
   "name": "python",
   "nbconvert_exporter": "python",
   "pygments_lexer": "ipython3",
   "version": "3.12.3"
  }
 },
 "nbformat": 4,
 "nbformat_minor": 2
}
