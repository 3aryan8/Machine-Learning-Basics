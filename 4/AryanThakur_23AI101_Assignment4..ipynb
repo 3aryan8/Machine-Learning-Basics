{
 "cells": [
  {
   "cell_type": "markdown",
   "id": "0897f75e",
   "metadata": {},
   "source": [
    "# Aryan Thakur \n",
    "## Assignment 4"
   ]
  },
  {
   "cell_type": "code",
   "execution_count": 18,
   "id": "ef3216f5-9f8c-4d40-b705-7cea2d00bf82",
   "metadata": {},
   "outputs": [],
   "source": [
    "import numpy as np\n",
    "import pandas as pd\n",
    "import matplotlib.pyplot as plt\n",
    "import seaborn as sns\n",
    "from sklearn.model_selection import train_test_split\n",
    "from sklearn.preprocessing import StandardScaler\n",
    "from sklearn.metrics import accuracy_score, classification_report, confusion_matrix, precision_recall_fscore_support"
   ]
  },
  {
   "cell_type": "code",
   "execution_count": 19,
   "id": "ed2c2619-7318-46b5-9c0c-e1a7947b3b69",
   "metadata": {},
   "outputs": [],
   "source": [
    "df = pd.read_csv(\"https://github.com/mishravipul/data/raw/main/divorce.csv\", delimiter=';')"
   ]
  },
  {
   "cell_type": "code",
   "execution_count": 20,
   "id": "f117e5c0-e7f9-4d86-bdf1-9006378eb65c",
   "metadata": {},
   "outputs": [],
   "source": [
    "df.insert(0, 'Bias', 1)"
   ]
  },
  {
   "cell_type": "code",
   "execution_count": 21,
   "id": "da07d4c6-19e2-457c-906b-369482a9c589",
   "metadata": {},
   "outputs": [],
   "source": [
    "X = df.iloc[:, :-1].values  # Features\n",
    "y = df.iloc[:, -1].values   # Target"
   ]
  },
  {
   "cell_type": "code",
   "execution_count": 22,
   "id": "9685cbf1-521a-4285-a3e2-8ad2f475f118",
   "metadata": {},
   "outputs": [
    {
     "name": "stdout",
     "output_type": "stream",
     "text": [
      "X shape: (170, 55), dtype: int64\n",
      "y shape: (170,), dtype: int64\n"
     ]
    }
   ],
   "source": [
    "print(f\"X shape: {X.shape}, dtype: {X.dtype}\")\n",
    "print(f\"y shape: {y.shape}, dtype: {y.dtype}\")"
   ]
  },
  {
   "cell_type": "code",
   "execution_count": 23,
   "id": "7d0707e1-0fc4-420a-af99-5ae47c3947cb",
   "metadata": {},
   "outputs": [],
   "source": [
    "X_train, X_test, y_train, y_test = train_test_split(X, y, test_size=0.15, random_state=42)"
   ]
  },
  {
   "cell_type": "code",
   "execution_count": 24,
   "id": "c86a8231-bc75-4f23-8fdb-75b0ae770ab2",
   "metadata": {},
   "outputs": [],
   "source": [
    "scaler = StandardScaler()\n",
    "X_train = scaler.fit_transform(X_train)\n",
    "X_test = scaler.transform(X_test)"
   ]
  },
  {
   "cell_type": "code",
   "execution_count": 25,
   "id": "faef097d-16da-44c3-a83b-af35bd551616",
   "metadata": {},
   "outputs": [],
   "source": [
    "class LogisticRegression:\n",
    "    def __init__(self, lr=0.1, epochs=1000):\n",
    "        self.lr = lr\n",
    "        self.epochs = epochs\n",
    "        self.weights = None\n",
    "\n",
    "    def sigmoid(self, z):\n",
    "        return 1 / (1 + np.exp(-z))\n",
    "    \n",
    "    def log_likelihood(self, X, y):\n",
    "        z = np.dot(X, self.weights)\n",
    "        return np.sum(y * z - np.log(1 + np.exp(z)))\n",
    "    \n",
    "    def fit(self, X, y):\n",
    "        self.weights = np.zeros(X.shape[1])\n",
    "        for i in range(self.epochs):\n",
    "            z = np.dot(X, self.weights)\n",
    "            predictions = self.sigmoid(z)\n",
    "            gradient = np.dot(X.T, (y - predictions)) / y.size\n",
    "            self.weights += self.lr * gradient\n",
    "            if i % 100 == 0:\n",
    "                print(f\"Iteration {i}: Log Likelihood = {self.log_likelihood(X, y)}\")\n",
    "    \n",
    "    def predict_proba(self, X):\n",
    "        return self.sigmoid(np.dot(X, self.weights))\n",
    "    \n",
    "    def predict(self, X, threshold=0.5):\n",
    "        return (self.predict_proba(X) >= threshold).astype(int)"
   ]
  },
  {
   "cell_type": "code",
   "execution_count": 26,
   "id": "857462b5-7469-4ac6-9e54-ccd79425ca8b",
   "metadata": {},
   "outputs": [
    {
     "name": "stdout",
     "output_type": "stream",
     "text": [
      "Iteration 0: Log Likelihood = -26.342351109391565\n",
      "Iteration 100: Log Likelihood = -7.634544350734421\n",
      "Iteration 200: Log Likelihood = -5.7926093630183635\n",
      "Iteration 300: Log Likelihood = -4.533797836305027\n",
      "Iteration 400: Log Likelihood = -3.6517532859175272\n",
      "Iteration 500: Log Likelihood = -3.018241482254967\n",
      "Iteration 600: Log Likelihood = -2.551091847322762\n",
      "Iteration 700: Log Likelihood = -2.197601570986512\n",
      "Iteration 800: Log Likelihood = -1.9235942649622197\n",
      "Iteration 900: Log Likelihood = -1.7065118551860419\n"
     ]
    }
   ],
   "source": [
    "model = LogisticRegression()\n",
    "model.fit(X_train, y_train)"
   ]
  },
  {
   "cell_type": "code",
   "execution_count": 27,
   "id": "267f8d7a-38d0-4c3f-b373-ff7b22652e9e",
   "metadata": {},
   "outputs": [],
   "source": [
    "y_train_pred = model.predict(X_train)\n",
    "y_test_pred = model.predict(X_test)"
   ]
  },
  {
   "cell_type": "code",
   "execution_count": 28,
   "id": "755c037a-f35c-41b3-a59e-fc648a5c70d9",
   "metadata": {},
   "outputs": [],
   "source": [
    "train_acc = accuracy_score(y_train, y_train_pred)\n",
    "test_acc = accuracy_score(y_test, y_test_pred)\n",
    "precision, recall, f1, _ = precision_recall_fscore_support(y_test, y_test_pred, average='binary')"
   ]
  },
  {
   "cell_type": "code",
   "execution_count": 29,
   "id": "8d14a300-b2ca-4c20-942c-9104a1504dc2",
   "metadata": {},
   "outputs": [
    {
     "name": "stdout",
     "output_type": "stream",
     "text": [
      "Train Accuracy: 1.0000\n",
      "Test Accuracy: 0.9615\n",
      "Classification Report:\n",
      "               precision    recall  f1-score   support\n",
      "\n",
      "           0       0.92      1.00      0.96        11\n",
      "           1       1.00      0.93      0.97        15\n",
      "\n",
      "    accuracy                           0.96        26\n",
      "   macro avg       0.96      0.97      0.96        26\n",
      "weighted avg       0.96      0.96      0.96        26\n",
      "\n",
      "Precision: 1.0000, Recall: 0.9333, F1 Score: 0.9655\n"
     ]
    }
   ],
   "source": [
    "print(f\"Train Accuracy: {train_acc:.4f}\")\n",
    "print(f\"Test Accuracy: {test_acc:.4f}\")\n",
    "print(\"Classification Report:\\n\", classification_report(y_test, y_test_pred))\n",
    "print(f\"Precision: {precision:.4f}, Recall: {recall:.4f}, F1 Score: {f1:.4f}\")"
   ]
  },
  {
   "cell_type": "code",
   "execution_count": 38,
   "id": "d6ff5b43-f5ed-445a-9b72-838f2e014806",
   "metadata": {},
   "outputs": [
    {
     "data": {
      "image/png": "[encoded data removed]",
      "text/plain": [
       "<Figure size 500x400 with 2 Axes>"
      ]
     },
     "metadata": {},
     "output_type": "display_data"
    }
   ],
   "source": [
    "import matplotlib.pyplot as plt\n",
    "import seaborn as sns\n",
    "from sklearn.metrics import confusion_matrix\n",
    "\n",
    "# Compute confusion matrix\n",
    "conf_matrix = confusion_matrix(y_test, y_test_pred)\n",
    "\n",
    "# Create heatmap\n",
    "plt.figure(figsize=(5, 4))\n",
    "sns.heatmap(conf_matrix, annot=True, fmt=\"d\", cmap=\"Reds\", \n",
    "            xticklabels=['Not Divorced', 'Divorced'], \n",
    "            yticklabels=['Not Divorced', 'Divorced'])\n",
    "\n",
    "plt.xlabel(\"Predicted Label\")\n",
    "plt.ylabel(\"True Label\")\n",
    "plt.title(\"Confusion Matrix Heatmap\")\n",
    "plt.show()\n"
   ]
  }
 ],
 "metadata": {
  "kernelspec": {
   "display_name": "Python 3",
   "language": "python",
   "name": "python3"
  },
  "language_info": {
   "codemirror_mode": {
    "name": "ipython",
    "version": 3
   },
   "file_extension": ".py",
   "mimetype": "text/x-python",
   "name": "python",
   "nbconvert_exporter": "python",
   "pygments_lexer": "ipython3",
   "version": "3.12.3"
  }
 },
 "nbformat": 4,
 "nbformat_minor": 5
}
